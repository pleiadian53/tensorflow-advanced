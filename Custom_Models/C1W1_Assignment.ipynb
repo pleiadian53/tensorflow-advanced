{
 "cells": [
  {
   "cell_type": "markdown",
   "metadata": {
    "colab_type": "text",
    "id": "ZL_6GK8qX35J"
   },
   "source": [
    "\n",
    "\n",
    "# Week 1: Multiple Output Models using the Keras Functional API\n",
    "\n",
    "Welcome to the first programming assignment of the course! Your task will be to use the Keras functional API to train a model to predict two outputs. For this lab, you will use the **[Wine Quality Dataset](https://archive.ics.uci.edu/ml/datasets/Wine+Quality)** from the **UCI machine learning repository**. It has separate datasets for red wine and white wine.\n",
    "\n",
    "Normally, the wines are classified into one of the quality ratings specified in the attributes. In this exercise, you will combine the two datasets to predict the wine quality and whether the wine is red or white solely from the attributes. \n",
    "\n",
    "You will model wine quality estimations as a regression problem and wine type detection as a binary classification problem.\n",
    "\n",
    "#### Please complete sections that are marked **(TODO)**"
   ]
  },
  {
   "cell_type": "markdown",
   "metadata": {
    "colab_type": "text",
    "id": "obdcD6urYBY9"
   },
   "source": [
    "## Imports"
   ]
  },
  {
   "cell_type": "code",
   "execution_count": 1,
   "metadata": {
    "colab": {},
    "colab_type": "code",
    "id": "t8N3pcTQ5oQI"
   },
   "outputs": [],
   "source": [
    "import tensorflow as tf\n",
    "from tensorflow.keras.models import Model\n",
    "from tensorflow.keras.layers import Dense, Input\n",
    "\n",
    "import numpy as np\n",
    "import matplotlib.pyplot as plt\n",
    "import pandas as pd\n",
    "from sklearn.model_selection import train_test_split\n",
    "from sklearn.metrics import confusion_matrix\n",
    "import itertools\n",
    "\n",
    "import utils"
   ]
  },
  {
   "cell_type": "markdown",
   "metadata": {
    "colab_type": "text",
    "id": "gQMERzWQYpgm"
   },
   "source": [
    "## Load Dataset\n",
    "\n",
    "\n",
    "You will now download the dataset from the [UCI Machine Learning Repository](https://archive.ics.uci.edu/ml/index.php). \n",
    "\n",
    "### Pre-process the white wine dataset (TODO)\n",
    "You will add a new column named `is_red` in your dataframe to indicate if the wine is white or red. \n",
    "- In the white wine dataset, you will fill the column `is_red` with  zeros (0)."
   ]
  },
  {
   "cell_type": "code",
   "execution_count": 2,
   "metadata": {
    "colab": {},
    "colab_type": "code",
    "deletable": false,
    "id": "2qYAjKXCd4RH",
    "nbgrader": {
     "cell_type": "code",
     "checksum": "cb9f284ba6255170fe04a309a407d72d",
     "grade": false,
     "grade_id": "cell-e5bfa0f152d9a21f",
     "locked": false,
     "schema_version": 3,
     "solution": true,
     "task": false
    }
   },
   "outputs": [],
   "source": [
    "# Please uncomment all lines in this cell and replace those marked with `# YOUR CODE HERE`.\n",
    "# You can select all lines in this code cell with Ctrl+A (Windows/Linux) or Cmd+A (Mac), then press Ctrl+/ (Windows/Linux) or Cmd+/ (Mac) to uncomment.\n",
    "\n",
    "\n",
    "\n",
    "# URL of the white wine dataset\n",
    "URL = 'http://archive.ics.uci.edu/ml/machine-learning-databases/wine-quality/winequality-white.csv'\n",
    "\n",
    "# load the dataset from the URL\n",
    "white_df = pd.read_csv(URL, sep=\";\")\n",
    "\n",
    "# fill the `is_red` column with zeros.\n",
    "white_df[\"is_red\"] = 0\n",
    "\n",
    "# keep only the first of duplicate items\n",
    "white_df = white_df.drop_duplicates(keep='first')\n"
   ]
  },
  {
   "cell_type": "code",
   "execution_count": 3,
   "metadata": {
    "deletable": false,
    "editable": false,
    "nbgrader": {
     "cell_type": "code",
     "checksum": "defe38d6ec58fd31cd67b89e46c4373f",
     "grade": true,
     "grade_id": "cell-30575e713b55fc51",
     "locked": true,
     "points": 1,
     "schema_version": 3,
     "solution": false,
     "task": false
    }
   },
   "outputs": [
    {
     "name": "stdout",
     "output_type": "stream",
     "text": [
      "\u001b[92m All public tests passed\n"
     ]
    }
   ],
   "source": [
    "# You can click `File -> Open` in the menu above and open the `utils.py` file \n",
    "# in case you want to inspect the unit tests being used for each graded function.\n",
    "\n",
    "utils.test_white_df(white_df)\n"
   ]
  },
  {
   "cell_type": "code",
   "execution_count": 4,
   "metadata": {
    "colab": {},
    "colab_type": "code",
    "id": "OQHK0ohBQRCk"
   },
   "outputs": [
    {
     "name": "stdout",
     "output_type": "stream",
     "text": [
      "8.8\n",
      "9.1\n"
     ]
    }
   ],
   "source": [
    "print(white_df.alcohol[0])\n",
    "print(white_df.alcohol[100])\n",
    "\n",
    "# EXPECTED OUTPUT\n",
    "# 8.8\n",
    "# 9.1"
   ]
  },
  {
   "cell_type": "markdown",
   "metadata": {},
   "source": [
    "### Pre-process the red wine dataset (TODO)\n",
    "- In the red wine dataset, you will fill in the column `is_red` with ones (1)."
   ]
  },
  {
   "cell_type": "code",
   "execution_count": 6,
   "metadata": {
    "colab": {},
    "colab_type": "code",
    "deletable": false,
    "id": "8y3QxKwBed8v",
    "nbgrader": {
     "cell_type": "code",
     "checksum": "be72275f78e2c2d0038dde9aa63f8d4f",
     "grade": false,
     "grade_id": "cell-e47a40f306593274",
     "locked": false,
     "schema_version": 3,
     "solution": true,
     "task": false
    }
   },
   "outputs": [],
   "source": [
    "# Please uncomment all lines in this cell and replace those marked with `# YOUR CODE HERE`.\n",
    "# You can select all lines in this code cell with Ctrl+A (Windows/Linux) or Cmd+A (Mac), then press Ctrl+/ (Windows/Linux) or Cmd+/ (Mac) to uncomment.\n",
    "\n",
    "\n",
    "# URL of the red wine dataset\n",
    "URL = 'http://archive.ics.uci.edu/ml/machine-learning-databases/wine-quality/winequality-red.csv'\n",
    "\n",
    "# load the dataset from the URL\n",
    "red_df = pd.read_csv(URL, sep=\";\")\n",
    "\n",
    "# fill the `is_red` column with ones.\n",
    "red_df[\"is_red\"] = 1\n",
    "\n",
    "# keep only the first of duplicate items\n",
    "red_df = red_df.drop_duplicates(keep='first')\n"
   ]
  },
  {
   "cell_type": "code",
   "execution_count": 7,
   "metadata": {
    "deletable": false,
    "editable": false,
    "nbgrader": {
     "cell_type": "code",
     "checksum": "d8e0c91b0fd668b63ba74a8f2f958b59",
     "grade": true,
     "grade_id": "cell-2a75937adcc0c25b",
     "locked": true,
     "points": 1,
     "schema_version": 3,
     "solution": false,
     "task": false
    }
   },
   "outputs": [
    {
     "name": "stdout",
     "output_type": "stream",
     "text": [
      "\u001b[92m All public tests passed\n"
     ]
    }
   ],
   "source": [
    "utils.test_red_df(red_df)\n"
   ]
  },
  {
   "cell_type": "code",
   "execution_count": 8,
   "metadata": {
    "colab": {},
    "colab_type": "code",
    "id": "zsB3LUzNQpo_"
   },
   "outputs": [
    {
     "name": "stdout",
     "output_type": "stream",
     "text": [
      "9.4\n",
      "10.2\n"
     ]
    }
   ],
   "source": [
    "print(red_df.alcohol[0])\n",
    "print(red_df.alcohol[100])\n",
    "\n",
    "# EXPECTED OUTPUT\n",
    "# 9.4\n",
    "# 10.2"
   ]
  },
  {
   "cell_type": "markdown",
   "metadata": {
    "colab_type": "text",
    "id": "2G8B-NYuM6-f"
   },
   "source": [
    "### Concatenate the datasets\n",
    "\n",
    "Next, concatenate the red and white wine dataframes."
   ]
  },
  {
   "cell_type": "code",
   "execution_count": 9,
   "metadata": {
    "colab": {},
    "colab_type": "code",
    "id": "YpQrOjJbfN3m"
   },
   "outputs": [],
   "source": [
    "df = pd.concat([red_df, white_df], ignore_index=True)"
   ]
  },
  {
   "cell_type": "code",
   "execution_count": 10,
   "metadata": {
    "colab": {},
    "colab_type": "code",
    "id": "Se2dTmThQyjb"
   },
   "outputs": [
    {
     "name": "stdout",
     "output_type": "stream",
     "text": [
      "9.4\n",
      "9.5\n"
     ]
    }
   ],
   "source": [
    "print(df.alcohol[0])\n",
    "print(df.alcohol[100])\n",
    "\n",
    "# EXPECTED OUTPUT\n",
    "# 9.4\n",
    "# 9.5"
   ]
  },
  {
   "cell_type": "code",
   "execution_count": null,
   "metadata": {
    "colab": {},
    "colab_type": "code",
    "id": "wx6y3rPpQv4k"
   },
   "outputs": [],
   "source": [
    "# NOTE: In a real-world scenario, you should shuffle the data.\n",
    "# YOU ARE NOT going to do that here because we want to test\n",
    "# with deterministic data. But if you want the code to do it,\n",
    "# it's in the commented line below:\n",
    "\n",
    "#df = df.iloc[np.random.permutation(len(df))]"
   ]
  },
  {
   "cell_type": "markdown",
   "metadata": {
    "colab_type": "text",
    "id": "-EqIcbg5M_n1"
   },
   "source": [
    "This will chart the quality of the wines."
   ]
  },
  {
   "cell_type": "code",
   "execution_count": 11,
   "metadata": {
    "colab": {},
    "colab_type": "code",
    "id": "IsvK0-Sgy17C"
   },
   "outputs": [
    {
     "data": {
      "image/png": "[encoded data removed]",
      "text/plain": [
       "<Figure size 432x288 with 1 Axes>"
      ]
     },
     "metadata": {
      "needs_background": "light"
     },
     "output_type": "display_data"
    }
   ],
   "source": [
    "df['quality'].hist(bins=20);"
   ]
  },
  {
   "cell_type": "markdown",
   "metadata": {
    "colab_type": "text",
    "id": "Nut1rmYLzf-p"
   },
   "source": [
    "### Imbalanced data (TODO)\n",
    "You can see from the plot above that the wine quality dataset is imbalanced. \n",
    "- Since there are very few observations with quality equal to 3, 4, 8 and 9, you can drop these observations from your dataset. \n",
    "- You can do this by removing data belonging to all classes except those > 4 and < 8."
   ]
  },
  {
   "cell_type": "code",
   "execution_count": 12,
   "metadata": {
    "colab": {},
    "colab_type": "code",
    "deletable": false,
    "id": "doH9_-gnf3sz",
    "nbgrader": {
     "cell_type": "code",
     "checksum": "d9ba9fc3a3ca02ccc567be33652b80fe",
     "grade": false,
     "grade_id": "cell-6a3e9db696f6827b",
     "locked": false,
     "schema_version": 3,
     "solution": true,
     "task": false
    }
   },
   "outputs": [],
   "source": [
    "# Please uncomment all lines in this cell and replace those marked with `# YOUR CODE HERE`.\n",
    "# You can select all lines in this code cell with Ctrl+A (Windows/Linux) or Cmd+A (Mac), then press Ctrl+/ (Windows/Linux) or Cmd+/ (Mac) to uncomment.\n",
    "\n",
    "\n",
    "\n",
    "# get data with wine quality greater than 4 and less than 8\n",
    "df = df[(df['quality'] > 4) & (df['quality'] < 8 )]\n",
    "\n",
    "# reset index and drop the old one\n",
    "df = df.reset_index(drop=True)"
   ]
  },
  {
   "cell_type": "code",
   "execution_count": 13,
   "metadata": {
    "deletable": false,
    "editable": false,
    "nbgrader": {
     "cell_type": "code",
     "checksum": "281e1d86a4803560ed5892cd7eda4c01",
     "grade": true,
     "grade_id": "cell-aed3da719d4682c7",
     "locked": true,
     "points": 1,
     "schema_version": 3,
     "solution": false,
     "task": false
    }
   },
   "outputs": [
    {
     "name": "stdout",
     "output_type": "stream",
     "text": [
      "\u001b[92m All public tests passed\n"
     ]
    }
   ],
   "source": [
    "utils.test_df_drop(df)\n",
    "\n"
   ]
  },
  {
   "cell_type": "code",
   "execution_count": 14,
   "metadata": {
    "colab": {},
    "colab_type": "code",
    "id": "xNR1iAlMRPXO"
   },
   "outputs": [
    {
     "name": "stdout",
     "output_type": "stream",
     "text": [
      "9.4\n",
      "10.9\n"
     ]
    }
   ],
   "source": [
    "print(df.alcohol[0])\n",
    "print(df.alcohol[100])\n",
    "\n",
    "# EXPECTED OUTPUT\n",
    "# 9.4\n",
    "# 10.9"
   ]
  },
  {
   "cell_type": "markdown",
   "metadata": {
    "colab_type": "text",
    "id": "cwhuRpnVRTzG"
   },
   "source": [
    "You can plot again to see the new range of data and quality"
   ]
  },
  {
   "cell_type": "code",
   "execution_count": 15,
   "metadata": {
    "colab": {},
    "colab_type": "code",
    "id": "857ygzZiLgGg"
   },
   "outputs": [
    {
     "data": {
      "image/png": "[encoded data removed]",
      "text/plain": [
       "<Figure size 432x288 with 1 Axes>"
      ]
     },
     "metadata": {
      "needs_background": "light"
     },
     "output_type": "display_data"
    }
   ],
   "source": [
    "df['quality'].hist(bins=20);"
   ]
  },
  {
   "cell_type": "markdown",
   "metadata": {
    "colab_type": "text",
    "id": "n3k0vqSsp84t"
   },
   "source": [
    "### Train Test Split (TODO)\n",
    "\n",
    "Next, you can split the datasets into training, test and validation datasets.\n",
    "- The data frame should be split 80:20 into `train` and `test` sets.\n",
    "- The resulting `train` should then be split 80:20 into `train` and `val` sets.\n",
    "- The `train_test_split` parameter `test_size` takes a float value that ranges between 0. and 1, and represents the proportion of the dataset that is allocated to the test set.  The rest of the data is allocated to the training set."
   ]
  },
  {
   "cell_type": "code",
   "execution_count": 16,
   "metadata": {
    "colab": {},
    "colab_type": "code",
    "deletable": false,
    "id": "PAVIf2-fgRVY",
    "nbgrader": {
     "cell_type": "code",
     "checksum": "7f5738f4fb51d65adc9a8acbdf2b9970",
     "grade": false,
     "grade_id": "cell-91946cadf745206b",
     "locked": false,
     "schema_version": 3,
     "solution": true,
     "task": false
    }
   },
   "outputs": [],
   "source": [
    "# Please uncomment all lines in this cell and replace those marked with `# YOUR CODE HERE`.\n",
    "# You can select all lines in this code cell with Ctrl+A (Windows/Linux) or Cmd+A (Mac), then press Ctrl+/ (Windows/Linux) or Cmd+/ (Mac) to uncomment.\n",
    "\n",
    "\n",
    "\n",
    "# Please do not change the random_state parameter. This is needed for grading.\n",
    "\n",
    "# split df into 80:20 train and test sets\n",
    "train, test = train_test_split(df, test_size=0.2, random_state = 1)\n",
    "                               \n",
    "# split train into 80:20 train and val sets\n",
    "train, val = train_test_split(train, test_size=0.2, random_state = 1)"
   ]
  },
  {
   "cell_type": "code",
   "execution_count": 17,
   "metadata": {
    "colab": {},
    "colab_type": "code",
    "deletable": false,
    "editable": false,
    "id": "57h9LcEzRWpk",
    "nbgrader": {
     "cell_type": "code",
     "checksum": "42adbe9e66efac7c7a5f8cd73ac92f22",
     "grade": true,
     "grade_id": "cell-64b8b38cd0b965f6",
     "locked": true,
     "points": 1,
     "schema_version": 3,
     "solution": false,
     "task": false
    }
   },
   "outputs": [
    {
     "name": "stdout",
     "output_type": "stream",
     "text": [
      "\u001b[92m All public tests passed\n"
     ]
    }
   ],
   "source": [
    "utils.test_data_sizes(train.size, test.size, val.size)\n",
    "\n"
   ]
  },
  {
   "cell_type": "markdown",
   "metadata": {
    "colab_type": "text",
    "id": "RwTNu4KFqG-K"
   },
   "source": [
    "Here's where you can explore the training stats. You can pop the labels 'is_red' and 'quality' from the data as these will be used as the labels\n"
   ]
  },
  {
   "cell_type": "code",
   "execution_count": 18,
   "metadata": {
    "colab": {},
    "colab_type": "code",
    "id": "Y_afyhhHM6WQ"
   },
   "outputs": [],
   "source": [
    "train_stats = train.describe()\n",
    "train_stats.pop('is_red')\n",
    "train_stats.pop('quality')\n",
    "train_stats = train_stats.transpose()"
   ]
  },
  {
   "cell_type": "markdown",
   "metadata": {
    "colab_type": "text",
    "id": "ahvbYm4fNqSt"
   },
   "source": [
    "Explore the training stats!"
   ]
  },
  {
   "cell_type": "code",
   "execution_count": 19,
   "metadata": {
    "colab": {},
    "colab_type": "code",
    "id": "n_gAtPjZ0otF"
   },
   "outputs": [
    {
     "data": {
      "text/html": [
       "<div>\n",
       "<style scoped>\n",
       "    .dataframe tbody tr th:only-of-type {\n",
       "        vertical-align: middle;\n",
       "    }\n",
       "\n",
       "    .dataframe tbody tr th {\n",
       "        vertical-align: top;\n",
       "    }\n",
       "\n",
       "    .dataframe thead th {\n",
       "        text-align: right;\n",
       "    }\n",
       "</style>\n",
       "<table border=\"1\" class=\"dataframe\">\n",
       "  <thead>\n",
       "    <tr style=\"text-align: right;\">\n",
       "      <th></th>\n",
       "      <th>count</th>\n",
       "      <th>mean</th>\n",
       "      <th>std</th>\n",
       "      <th>min</th>\n",
       "      <th>25%</th>\n",
       "      <th>50%</th>\n",
       "      <th>75%</th>\n",
       "      <th>max</th>\n",
       "    </tr>\n",
       "  </thead>\n",
       "  <tbody>\n",
       "    <tr>\n",
       "      <th>fixed acidity</th>\n",
       "      <td>3155.0</td>\n",
       "      <td>7.221616</td>\n",
       "      <td>1.325297</td>\n",
       "      <td>3.80000</td>\n",
       "      <td>6.40000</td>\n",
       "      <td>7.00000</td>\n",
       "      <td>7.7000</td>\n",
       "      <td>15.60000</td>\n",
       "    </tr>\n",
       "    <tr>\n",
       "      <th>volatile acidity</th>\n",
       "      <td>3155.0</td>\n",
       "      <td>0.338929</td>\n",
       "      <td>0.162476</td>\n",
       "      <td>0.08000</td>\n",
       "      <td>0.23000</td>\n",
       "      <td>0.29000</td>\n",
       "      <td>0.4000</td>\n",
       "      <td>1.24000</td>\n",
       "    </tr>\n",
       "    <tr>\n",
       "      <th>citric acid</th>\n",
       "      <td>3155.0</td>\n",
       "      <td>0.321569</td>\n",
       "      <td>0.147970</td>\n",
       "      <td>0.00000</td>\n",
       "      <td>0.25000</td>\n",
       "      <td>0.31000</td>\n",
       "      <td>0.4000</td>\n",
       "      <td>1.66000</td>\n",
       "    </tr>\n",
       "    <tr>\n",
       "      <th>residual sugar</th>\n",
       "      <td>3155.0</td>\n",
       "      <td>5.155911</td>\n",
       "      <td>4.639632</td>\n",
       "      <td>0.60000</td>\n",
       "      <td>1.80000</td>\n",
       "      <td>2.80000</td>\n",
       "      <td>7.6500</td>\n",
       "      <td>65.80000</td>\n",
       "    </tr>\n",
       "    <tr>\n",
       "      <th>chlorides</th>\n",
       "      <td>3155.0</td>\n",
       "      <td>0.056976</td>\n",
       "      <td>0.036802</td>\n",
       "      <td>0.01200</td>\n",
       "      <td>0.03800</td>\n",
       "      <td>0.04700</td>\n",
       "      <td>0.0660</td>\n",
       "      <td>0.61100</td>\n",
       "    </tr>\n",
       "    <tr>\n",
       "      <th>free sulfur dioxide</th>\n",
       "      <td>3155.0</td>\n",
       "      <td>30.388590</td>\n",
       "      <td>17.236784</td>\n",
       "      <td>1.00000</td>\n",
       "      <td>17.00000</td>\n",
       "      <td>28.00000</td>\n",
       "      <td>41.0000</td>\n",
       "      <td>131.00000</td>\n",
       "    </tr>\n",
       "    <tr>\n",
       "      <th>total sulfur dioxide</th>\n",
       "      <td>3155.0</td>\n",
       "      <td>115.062282</td>\n",
       "      <td>56.706617</td>\n",
       "      <td>6.00000</td>\n",
       "      <td>75.00000</td>\n",
       "      <td>117.00000</td>\n",
       "      <td>156.0000</td>\n",
       "      <td>344.00000</td>\n",
       "    </tr>\n",
       "    <tr>\n",
       "      <th>density</th>\n",
       "      <td>3155.0</td>\n",
       "      <td>0.994633</td>\n",
       "      <td>0.003005</td>\n",
       "      <td>0.98711</td>\n",
       "      <td>0.99232</td>\n",
       "      <td>0.99481</td>\n",
       "      <td>0.9968</td>\n",
       "      <td>1.03898</td>\n",
       "    </tr>\n",
       "    <tr>\n",
       "      <th>pH</th>\n",
       "      <td>3155.0</td>\n",
       "      <td>3.223201</td>\n",
       "      <td>0.161272</td>\n",
       "      <td>2.72000</td>\n",
       "      <td>3.11000</td>\n",
       "      <td>3.21000</td>\n",
       "      <td>3.3300</td>\n",
       "      <td>4.01000</td>\n",
       "    </tr>\n",
       "    <tr>\n",
       "      <th>sulphates</th>\n",
       "      <td>3155.0</td>\n",
       "      <td>0.534051</td>\n",
       "      <td>0.149149</td>\n",
       "      <td>0.22000</td>\n",
       "      <td>0.43000</td>\n",
       "      <td>0.51000</td>\n",
       "      <td>0.6000</td>\n",
       "      <td>1.95000</td>\n",
       "    </tr>\n",
       "    <tr>\n",
       "      <th>alcohol</th>\n",
       "      <td>3155.0</td>\n",
       "      <td>10.504466</td>\n",
       "      <td>1.154654</td>\n",
       "      <td>8.50000</td>\n",
       "      <td>9.50000</td>\n",
       "      <td>10.30000</td>\n",
       "      <td>11.3000</td>\n",
       "      <td>14.00000</td>\n",
       "    </tr>\n",
       "  </tbody>\n",
       "</table>\n",
       "</div>"
      ],
      "text/plain": [
       "                       count        mean        std      min       25%  \\\n",
       "fixed acidity         3155.0    7.221616   1.325297  3.80000   6.40000   \n",
       "volatile acidity      3155.0    0.338929   0.162476  0.08000   0.23000   \n",
       "citric acid           3155.0    0.321569   0.147970  0.00000   0.25000   \n",
       "residual sugar        3155.0    5.155911   4.639632  0.60000   1.80000   \n",
       "chlorides             3155.0    0.056976   0.036802  0.01200   0.03800   \n",
       "free sulfur dioxide   3155.0   30.388590  17.236784  1.00000  17.00000   \n",
       "total sulfur dioxide  3155.0  115.062282  56.706617  6.00000  75.00000   \n",
       "density               3155.0    0.994633   0.003005  0.98711   0.99232   \n",
       "pH                    3155.0    3.223201   0.161272  2.72000   3.11000   \n",
       "sulphates             3155.0    0.534051   0.149149  0.22000   0.43000   \n",
       "alcohol               3155.0   10.504466   1.154654  8.50000   9.50000   \n",
       "\n",
       "                            50%       75%        max  \n",
       "fixed acidity           7.00000    7.7000   15.60000  \n",
       "volatile acidity        0.29000    0.4000    1.24000  \n",
       "citric acid             0.31000    0.4000    1.66000  \n",
       "residual sugar          2.80000    7.6500   65.80000  \n",
       "chlorides               0.04700    0.0660    0.61100  \n",
       "free sulfur dioxide    28.00000   41.0000  131.00000  \n",
       "total sulfur dioxide  117.00000  156.0000  344.00000  \n",
       "density                 0.99481    0.9968    1.03898  \n",
       "pH                      3.21000    3.3300    4.01000  \n",
       "sulphates               0.51000    0.6000    1.95000  \n",
       "alcohol                10.30000   11.3000   14.00000  "
      ]
     },
     "execution_count": 19,
     "metadata": {},
     "output_type": "execute_result"
    }
   ],
   "source": [
    "train_stats"
   ]
  },
  {
   "cell_type": "markdown",
   "metadata": {
    "colab_type": "text",
    "id": "bGPvt9jir_HC"
   },
   "source": [
    "### Get the labels (TODO)\n",
    "\n",
    "The features and labels are currently in the same dataframe.\n",
    "- You will want to store the label columns `is_red` and `quality` separately from the feature columns.  \n",
    "- The following function, `format_output`, gets these two columns from the dataframe (it's given to you).\n",
    "- `format_output` also formats the data into numpy arrays. \n",
    "- Please use the `format_output` and apply it to the `train`, `val` and `test` sets to get dataframes for the labels."
   ]
  },
  {
   "cell_type": "code",
   "execution_count": 20,
   "metadata": {
    "colab": {},
    "colab_type": "code",
    "id": "Z_fs14XQqZVP"
   },
   "outputs": [],
   "source": [
    "def format_output(data):\n",
    "    is_red = data.pop('is_red')\n",
    "    is_red = np.array(is_red)\n",
    "    quality = data.pop('quality')\n",
    "    quality = np.array(quality)\n",
    "    return (quality, is_red)"
   ]
  },
  {
   "cell_type": "code",
   "execution_count": 21,
   "metadata": {
    "colab": {},
    "colab_type": "code",
    "deletable": false,
    "id": "8L3ZZe1fQicm",
    "nbgrader": {
     "cell_type": "code",
     "checksum": "7a86809e54895a816434c48dc903f55d",
     "grade": false,
     "grade_id": "cell-5c30fa2c2a354b0f",
     "locked": false,
     "schema_version": 3,
     "solution": true,
     "task": false
    }
   },
   "outputs": [],
   "source": [
    "# Please uncomment all lines in this cell and replace those marked with `# YOUR CODE HERE`.\n",
    "# You can select all lines in this code cell with Ctrl+A (Windows/Linux) or Cmd+A (Mac), then press Ctrl+/ (Windows/Linux) or Cmd+/ (Mac) to uncomment.\n",
    "\n",
    "\n",
    "\n",
    "# format the output of the train set\n",
    "train_Y = format_output(train)\n",
    "\n",
    "# format the output of the val set\n",
    "val_Y = format_output(val)\n",
    "    \n",
    "# format the output of the test set\n",
    "test_Y = format_output(test)"
   ]
  },
  {
   "cell_type": "code",
   "execution_count": 22,
   "metadata": {
    "deletable": false,
    "editable": false,
    "nbgrader": {
     "cell_type": "code",
     "checksum": "359cabbafaed14ec9bbc1e57a7b6f32c",
     "grade": true,
     "grade_id": "cell-4977d8befb80f56b",
     "locked": true,
     "points": 1,
     "schema_version": 3,
     "solution": false,
     "task": false
    }
   },
   "outputs": [
    {
     "name": "stdout",
     "output_type": "stream",
     "text": [
      "\u001b[92m All public tests passed\n"
     ]
    }
   ],
   "source": [
    "utils.test_format_output(df, train_Y, val_Y, test_Y)"
   ]
  },
  {
   "cell_type": "markdown",
   "metadata": {},
   "source": [
    "Notice that after you get the labels, the `train`, `val` and `test` dataframes no longer contain the label columns, and contain just the feature columns.\n",
    "- This is because you used `.pop` in the `format_output` function."
   ]
  },
  {
   "cell_type": "code",
   "execution_count": 23,
   "metadata": {},
   "outputs": [
    {
     "data": {
      "text/html": [
       "<div>\n",
       "<style scoped>\n",
       "    .dataframe tbody tr th:only-of-type {\n",
       "        vertical-align: middle;\n",
       "    }\n",
       "\n",
       "    .dataframe tbody tr th {\n",
       "        vertical-align: top;\n",
       "    }\n",
       "\n",
       "    .dataframe thead th {\n",
       "        text-align: right;\n",
       "    }\n",
       "</style>\n",
       "<table border=\"1\" class=\"dataframe\">\n",
       "  <thead>\n",
       "    <tr style=\"text-align: right;\">\n",
       "      <th></th>\n",
       "      <th>fixed acidity</th>\n",
       "      <th>volatile acidity</th>\n",
       "      <th>citric acid</th>\n",
       "      <th>residual sugar</th>\n",
       "      <th>chlorides</th>\n",
       "      <th>free sulfur dioxide</th>\n",
       "      <th>total sulfur dioxide</th>\n",
       "      <th>density</th>\n",
       "      <th>pH</th>\n",
       "      <th>sulphates</th>\n",
       "      <th>alcohol</th>\n",
       "    </tr>\n",
       "  </thead>\n",
       "  <tbody>\n",
       "    <tr>\n",
       "      <th>225</th>\n",
       "      <td>7.5</td>\n",
       "      <td>0.65</td>\n",
       "      <td>0.18</td>\n",
       "      <td>7.0</td>\n",
       "      <td>0.088</td>\n",
       "      <td>27.0</td>\n",
       "      <td>94.0</td>\n",
       "      <td>0.99915</td>\n",
       "      <td>3.38</td>\n",
       "      <td>0.77</td>\n",
       "      <td>9.4</td>\n",
       "    </tr>\n",
       "    <tr>\n",
       "      <th>3557</th>\n",
       "      <td>6.3</td>\n",
       "      <td>0.27</td>\n",
       "      <td>0.29</td>\n",
       "      <td>12.2</td>\n",
       "      <td>0.044</td>\n",
       "      <td>59.0</td>\n",
       "      <td>196.0</td>\n",
       "      <td>0.99782</td>\n",
       "      <td>3.14</td>\n",
       "      <td>0.40</td>\n",
       "      <td>8.8</td>\n",
       "    </tr>\n",
       "    <tr>\n",
       "      <th>3825</th>\n",
       "      <td>8.8</td>\n",
       "      <td>0.27</td>\n",
       "      <td>0.25</td>\n",
       "      <td>5.0</td>\n",
       "      <td>0.024</td>\n",
       "      <td>52.0</td>\n",
       "      <td>99.0</td>\n",
       "      <td>0.99250</td>\n",
       "      <td>2.87</td>\n",
       "      <td>0.49</td>\n",
       "      <td>11.4</td>\n",
       "    </tr>\n",
       "    <tr>\n",
       "      <th>1740</th>\n",
       "      <td>6.4</td>\n",
       "      <td>0.45</td>\n",
       "      <td>0.07</td>\n",
       "      <td>1.1</td>\n",
       "      <td>0.030</td>\n",
       "      <td>10.0</td>\n",
       "      <td>131.0</td>\n",
       "      <td>0.99050</td>\n",
       "      <td>2.97</td>\n",
       "      <td>0.28</td>\n",
       "      <td>10.8</td>\n",
       "    </tr>\n",
       "    <tr>\n",
       "      <th>1221</th>\n",
       "      <td>7.2</td>\n",
       "      <td>0.53</td>\n",
       "      <td>0.13</td>\n",
       "      <td>2.0</td>\n",
       "      <td>0.058</td>\n",
       "      <td>18.0</td>\n",
       "      <td>22.0</td>\n",
       "      <td>0.99573</td>\n",
       "      <td>3.21</td>\n",
       "      <td>0.68</td>\n",
       "      <td>9.9</td>\n",
       "    </tr>\n",
       "  </tbody>\n",
       "</table>\n",
       "</div>"
      ],
      "text/plain": [
       "      fixed acidity  volatile acidity  citric acid  residual sugar  chlorides  \\\n",
       "225             7.5              0.65         0.18             7.0      0.088   \n",
       "3557            6.3              0.27         0.29            12.2      0.044   \n",
       "3825            8.8              0.27         0.25             5.0      0.024   \n",
       "1740            6.4              0.45         0.07             1.1      0.030   \n",
       "1221            7.2              0.53         0.13             2.0      0.058   \n",
       "\n",
       "      free sulfur dioxide  total sulfur dioxide  density    pH  sulphates  \\\n",
       "225                  27.0                  94.0  0.99915  3.38       0.77   \n",
       "3557                 59.0                 196.0  0.99782  3.14       0.40   \n",
       "3825                 52.0                  99.0  0.99250  2.87       0.49   \n",
       "1740                 10.0                 131.0  0.99050  2.97       0.28   \n",
       "1221                 18.0                  22.0  0.99573  3.21       0.68   \n",
       "\n",
       "      alcohol  \n",
       "225       9.4  \n",
       "3557      8.8  \n",
       "3825     11.4  \n",
       "1740     10.8  \n",
       "1221      9.9  "
      ]
     },
     "execution_count": 23,
     "metadata": {},
     "output_type": "execute_result"
    }
   ],
   "source": [
    "train.head()"
   ]
  },
  {
   "cell_type": "markdown",
   "metadata": {
    "colab_type": "text",
    "id": "hEdbrruAsN1D"
   },
   "source": [
    "### Normalize the data (TODO)\n",
    "\n",
    "Next, you can normalize the data, x, using the formula:\n",
    "$$x_{norm} = \\frac{x - \\mu}{\\sigma}$$\n",
    "- The `norm` function is defined for you.\n",
    "- Please apply the `norm` function to normalize the dataframes that contains the feature columns of `train`, `val` and `test` sets."
   ]
  },
  {
   "cell_type": "code",
   "execution_count": 24,
   "metadata": {
    "colab": {},
    "colab_type": "code",
    "id": "WWiZPAHCLjUs"
   },
   "outputs": [],
   "source": [
    "def norm(x):\n",
    "    return (x - train_stats['mean']) / train_stats['std']"
   ]
  },
  {
   "cell_type": "code",
   "execution_count": 25,
   "metadata": {
    "colab": {},
    "colab_type": "code",
    "deletable": false,
    "id": "JEaOi2I2Lk69",
    "nbgrader": {
     "cell_type": "code",
     "checksum": "6bc0cdcb563d192f271067aa3373ff32",
     "grade": false,
     "grade_id": "cell-d8416d975c371095",
     "locked": false,
     "schema_version": 3,
     "solution": true,
     "task": false
    }
   },
   "outputs": [],
   "source": [
    "# Please uncomment all lines in this cell and replace those marked with `# YOUR CODE HERE`.\n",
    "# You can select all lines in this code cell with Ctrl+A (Windows/Linux) or Cmd+A (Mac), then press Ctrl+/ (Windows/Linux) or Cmd+/ (Mac) to uncomment.\n",
    "\n",
    "\n",
    "\n",
    "# normalize the train set\n",
    "norm_train_X = norm(train)\n",
    "    \n",
    "# normalize the val set\n",
    "norm_val_X = norm(val)\n",
    "    \n",
    "# normalize the test set\n",
    "norm_test_X = norm(test)"
   ]
  },
  {
   "cell_type": "code",
   "execution_count": 26,
   "metadata": {
    "deletable": false,
    "editable": false,
    "nbgrader": {
     "cell_type": "code",
     "checksum": "4f567db45bf40191601780379cc100b8",
     "grade": true,
     "grade_id": "cell-97fad979d157529b",
     "locked": true,
     "points": 1,
     "schema_version": 3,
     "solution": false,
     "task": false
    }
   },
   "outputs": [
    {
     "name": "stdout",
     "output_type": "stream",
     "text": [
      "\u001b[92m All public tests passed\n"
     ]
    }
   ],
   "source": [
    "utils.test_norm(norm_train_X, norm_val_X, norm_test_X, train, val, test)\n"
   ]
  },
  {
   "cell_type": "markdown",
   "metadata": {
    "colab_type": "text",
    "id": "hzykDwQhsaPO"
   },
   "source": [
    "## Define the Model (TODO)\n",
    "\n",
    "Define the model using the functional API. The base model will be 2 `Dense` layers of 128 neurons each, and have the `'relu'` activation.\n",
    "- Check out the documentation for [tf.keras.layers.Dense](https://www.tensorflow.org/api_docs/python/tf/keras/layers/Dense)"
   ]
  },
  {
   "cell_type": "code",
   "execution_count": 27,
   "metadata": {
    "colab": {},
    "colab_type": "code",
    "deletable": false,
    "id": "Rhcns3oTFkM6",
    "nbgrader": {
     "cell_type": "code",
     "checksum": "74b031247e569526552bf13a034a1c07",
     "grade": false,
     "grade_id": "cell-73fceedad1fe351c",
     "locked": false,
     "schema_version": 3,
     "solution": true,
     "task": false
    }
   },
   "outputs": [],
   "source": [
    "# Please uncomment all lines in this cell and replace those marked with `# YOUR CODE HERE`.\n",
    "# You can select all lines in this code cell with Ctrl+A (Windows/Linux) or Cmd+A (Mac), then press Ctrl+/ (Windows/Linux) or Cmd+/ (Mac) to uncomment.\n",
    "\n",
    "\n",
    "\n",
    "def base_model(inputs):\n",
    "    \n",
    "    # connect a Dense layer with 128 neurons and a relu activation\n",
    "    x = Dense(128, activation='relu', name=\"first_base_dense\")(inputs)\n",
    "    \n",
    "    # connect another Dense layer with 128 neurons and a relu activation\n",
    "    x = Dense(128, activation='relu', name=\"second_base_dense\")(x)\n",
    "    return x\n",
    "  "
   ]
  },
  {
   "cell_type": "code",
   "execution_count": 28,
   "metadata": {
    "deletable": false,
    "editable": false,
    "nbgrader": {
     "cell_type": "code",
     "checksum": "9255924b3def80f679616e4c851a43e1",
     "grade": true,
     "grade_id": "cell-54f742a133353d75",
     "locked": true,
     "points": 1,
     "schema_version": 3,
     "solution": false,
     "task": false
    }
   },
   "outputs": [
    {
     "name": "stdout",
     "output_type": "stream",
     "text": [
      "\u001b[92m All public tests passed\n"
     ]
    }
   ],
   "source": [
    "utils.test_base_model(base_model)"
   ]
  },
  {
   "cell_type": "markdown",
   "metadata": {
    "colab_type": "text",
    "id": "xem_fcVws6Kz"
   },
   "source": [
    "# Define output layers of the model (TODO)\n",
    "\n",
    "You will add output layers to the base model. \n",
    "- The model will need two outputs.\n",
    "\n",
    "One output layer will predict wine quality, which is a numeric value.\n",
    "- Define a `Dense` layer with 1 neuron.\n",
    "- Since this is a regression output, the activation can be left as its default value `None`.\n",
    "\n",
    "The other output layer will predict the wine type, which is either red `1` or not red `0` (white).\n",
    "- Define a `Dense` layer with 1 neuron.\n",
    "- Since there are two possible categories, you can use a sigmoid activation for binary classification.\n",
    "\n",
    "Define the `Model`\n",
    "- Define the `Model` object, and set the following parameters:\n",
    "  - `inputs`: pass in the inputs to the model as a list.\n",
    "  - `outputs`: pass in a list of the outputs that you just defined: wine quality, then wine type.\n",
    "  - **Note**: please list the wine quality before wine type in the outputs, as this will affect the calculated loss if you choose the other order."
   ]
  },
  {
   "cell_type": "code",
   "execution_count": 29,
   "metadata": {
    "colab": {},
    "colab_type": "code",
    "deletable": false,
    "id": "n5UGF8PMVLPt",
    "nbgrader": {
     "cell_type": "code",
     "checksum": "76d35b90d20cdcbb22986cd8211057de",
     "grade": false,
     "grade_id": "cell-19e285f482f021fb",
     "locked": false,
     "schema_version": 3,
     "solution": true,
     "task": false
    }
   },
   "outputs": [],
   "source": [
    "# Please uncomment all lines in this cell and replace those marked with `# YOUR CODE HERE`.\n",
    "# You can select all lines in this code cell with Ctrl+A (Windows/Linux) or Cmd+A (Mac), then press Ctrl+/ (Windows/Linux) or Cmd+/ (Mac) to uncomment.\n",
    "\n",
    "\n",
    "\n",
    "def final_model(inputs):\n",
    "    \n",
    "    # get the base model\n",
    "    x = base_model(inputs)\n",
    "\n",
    "    # connect the output Dense layer for regression\n",
    "    wine_quality = Dense(units='1', name='wine_quality')(x)\n",
    "\n",
    "    # connect the output Dense layer for classification. this will use a sigmoid activation.\n",
    "    wine_type = Dense(units='1', activation='sigmoid', name='wine_type')(x)\n",
    "\n",
    "    # define the model using the input and output layers\n",
    "    model = Model(inputs=inputs, outputs=[wine_quality, wine_type])\n",
    "\n",
    "    return model"
   ]
  },
  {
   "cell_type": "code",
   "execution_count": 30,
   "metadata": {
    "deletable": false,
    "editable": false,
    "nbgrader": {
     "cell_type": "code",
     "checksum": "89cbf89d8ab5e2e59ecf7f63f517520a",
     "grade": true,
     "grade_id": "cell-40d050f855c817d1",
     "locked": true,
     "points": 1,
     "schema_version": 3,
     "solution": false,
     "task": false
    }
   },
   "outputs": [
    {
     "name": "stdout",
     "output_type": "stream",
     "text": [
      "\u001b[92m All public tests passed\n"
     ]
    }
   ],
   "source": [
    "utils.test_final_model(final_model)"
   ]
  },
  {
   "cell_type": "markdown",
   "metadata": {
    "colab_type": "text",
    "id": "5R0BMTsltZyu"
   },
   "source": [
    "## Compiling the Model\n",
    "\n",
    "Next, compile the model. When setting the loss parameter of `model.compile`, you're setting the loss for each of the two outputs (wine quality and wine type).\n",
    "\n",
    "To set more than one loss, use a dictionary of key-value pairs.\n",
    "- You can look at the docs for the losses [here](https://www.tensorflow.org/api_docs/python/tf/keras/losses#functions).\n",
    "    - **Note**: For the desired spelling, please look at the \"Functions\" section of the documentation and not the \"classes\" section on that same page.\n",
    "- wine_type: Since you will be performing binary classification on wine type, you should use the binary crossentropy loss function for it.  Please pass this in as a string.  \n",
    "  - **Hint**, this should be all lowercase.  In the documentation, you'll see this under the \"Functions\" section, not the \"Classes\" section.\n",
    "- wine_quality: since this is a regression output, use the mean squared error.  Please pass it in as a string, all lowercase.\n",
    "  - **Hint**: You may notice that there are two aliases for mean squared error.  Please use the shorter name.\n",
    "\n",
    "\n",
    "You will also set the metric for each of the two outputs.  Again, to set metrics for two or more outputs, use a dictionary with key value pairs.\n",
    "- The metrics documentation is linked [here](https://www.tensorflow.org/api_docs/python/tf/keras/metrics).\n",
    "- For the wine type, please set it to accuracy as a string, all lowercase.\n",
    "- For wine quality, please use the root mean squared error.  Instead of a string, you'll set it to an instance of the class [RootMeanSquaredError](https://www.tensorflow.org/api_docs/python/tf/keras/metrics/RootMeanSquaredError), which belongs to the tf.keras.metrics module.\n",
    "\n",
    "**Note**: If you see the error message \n",
    ">Exception: wine quality loss function is incorrect.\n",
    "\n",
    "- Please also check your other losses and metrics, as the error may be caused by the other three key-value pairs and not the wine quality loss."
   ]
  },
  {
   "cell_type": "code",
   "execution_count": 31,
   "metadata": {
    "colab": {},
    "colab_type": "code",
    "deletable": false,
    "id": "LK11duUbUjmh",
    "nbgrader": {
     "cell_type": "code",
     "checksum": "22f45067ca69eb2ccadb43874dbcc27b",
     "grade": false,
     "grade_id": "cell-81afdc4dcca51d5e",
     "locked": false,
     "schema_version": 3,
     "solution": true,
     "task": false
    }
   },
   "outputs": [],
   "source": [
    "# Please uncomment all lines in this cell and replace those marked with `# YOUR CODE HERE`.\n",
    "# You can select all lines in this code cell with Ctrl+A (Windows/Linux) or Cmd+A (Mac), then press Ctrl+/ (Windows/Linux) or Cmd+/ (Mac) to uncomment.\n",
    "\n",
    "\n",
    "\n",
    "inputs = tf.keras.layers.Input(shape=(11,))  # 11 features\n",
    "rms = tf.keras.optimizers.RMSprop(lr=0.0001)\n",
    "model = final_model(inputs)\n",
    "\n",
    "model.compile(optimizer=rms, \n",
    "              loss = {'wine_type' : 'binary_crossentropy',\n",
    "                      'wine_quality' : 'mean_squared_error'\n",
    "                     },\n",
    "              metrics = {'wine_type' : 'accuracy', \n",
    "                         'wine_quality': tf.keras.metrics.RootMeanSquaredError()\n",
    "                       }\n",
    "             )\n"
   ]
  },
  {
   "cell_type": "code",
   "execution_count": 32,
   "metadata": {
    "deletable": false,
    "editable": false,
    "nbgrader": {
     "cell_type": "code",
     "checksum": "88e02238ea5e456ff65e835cc8158054",
     "grade": true,
     "grade_id": "cell-2eeeba02391c4632",
     "locked": true,
     "points": 1,
     "schema_version": 3,
     "solution": false,
     "task": false
    }
   },
   "outputs": [
    {
     "name": "stdout",
     "output_type": "stream",
     "text": [
      "\u001b[92m All public tests passed\n"
     ]
    }
   ],
   "source": [
    "utils.test_model_compile(model)"
   ]
  },
  {
   "cell_type": "markdown",
   "metadata": {
    "colab_type": "text",
    "id": "90MpAMpWuKm-"
   },
   "source": [
    "## Training the Model\n",
    "\n",
    "Fit the model to the training inputs and outputs. \n",
    "- Check the documentation for [model.fit](https://www.tensorflow.org/api_docs/python/tf/keras/Model#fit).\n",
    "- Remember to use the normalized training set as inputs. \n",
    "- For the validation data, please use the normalized validation set."
   ]
  },
  {
   "cell_type": "code",
   "execution_count": 33,
   "metadata": {
    "colab": {},
    "colab_type": "code",
    "deletable": false,
    "id": "_eiZkle4XwiY",
    "nbgrader": {
     "cell_type": "code",
     "checksum": "2ca7664be03bfd6fd3651ae44d17b793",
     "grade": false,
     "grade_id": "cell-0bb56262896f6680",
     "locked": false,
     "schema_version": 3,
     "solution": true,
     "task": false
    }
   },
   "outputs": [
    {
     "name": "stdout",
     "output_type": "stream",
     "text": [
      "Train on 3155 samples, validate on 789 samples\n",
      "Epoch 1/180\n",
      "3155/3155 [==============================] - 1s 401us/sample - loss: 26.4043 - wine_quality_loss: 25.7297 - wine_type_loss: 0.6526 - wine_quality_root_mean_squared_error: 5.0746 - wine_type_accuracy: 0.6777 - val_loss: 19.0605 - val_wine_quality_loss: 18.4631 - val_wine_type_loss: 0.6190 - val_wine_quality_root_mean_squared_error: 4.2944 - val_wine_type_accuracy: 0.7376\n",
      "Epoch 2/180\n",
      "3155/3155 [==============================] - 0s 102us/sample - loss: 13.2347 - wine_quality_loss: 12.6372 - wine_type_loss: 0.5896 - wine_quality_root_mean_squared_error: 3.5560 - wine_type_accuracy: 0.7474 - val_loss: 7.9097 - val_wine_quality_loss: 7.4028 - val_wine_type_loss: 0.5622 - val_wine_quality_root_mean_squared_error: 2.7106 - val_wine_type_accuracy: 0.7389\n",
      "Epoch 3/180\n",
      "3155/3155 [==============================] - 0s 117us/sample - loss: 5.4696 - wine_quality_loss: 4.9436 - wine_type_loss: 0.5155 - wine_quality_root_mean_squared_error: 2.2258 - wine_type_accuracy: 0.7664 - val_loss: 3.3658 - val_wine_quality_loss: 2.9581 - val_wine_type_loss: 0.4669 - val_wine_quality_root_mean_squared_error: 1.7026 - val_wine_type_accuracy: 0.8327\n",
      "Epoch 4/180\n",
      "3155/3155 [==============================] - 0s 99us/sample - loss: 3.0166 - wine_quality_loss: 2.6095 - wine_type_loss: 0.4055 - wine_quality_root_mean_squared_error: 1.6159 - wine_type_accuracy: 0.8932 - val_loss: 2.4914 - val_wine_quality_loss: 2.1756 - val_wine_type_loss: 0.3539 - val_wine_quality_root_mean_squared_error: 1.4620 - val_wine_type_accuracy: 0.9354\n",
      "Epoch 5/180\n",
      "3155/3155 [==============================] - 0s 99us/sample - loss: 2.3313 - wine_quality_loss: 2.0252 - wine_type_loss: 0.3027 - wine_quality_root_mean_squared_error: 1.4241 - wine_type_accuracy: 0.9575 - val_loss: 2.0804 - val_wine_quality_loss: 1.8368 - val_wine_type_loss: 0.2693 - val_wine_quality_root_mean_squared_error: 1.3458 - val_wine_type_accuracy: 0.9683\n",
      "Epoch 6/180\n",
      "3155/3155 [==============================] - 0s 96us/sample - loss: 1.9720 - wine_quality_loss: 1.7459 - wine_type_loss: 0.2297 - wine_quality_root_mean_squared_error: 1.3199 - wine_type_accuracy: 0.9756 - val_loss: 1.8090 - val_wine_quality_loss: 1.6225 - val_wine_type_loss: 0.2037 - val_wine_quality_root_mean_squared_error: 1.2670 - val_wine_type_accuracy: 0.9886\n",
      "Epoch 7/180\n",
      "3155/3155 [==============================] - 0s 97us/sample - loss: 1.7437 - wine_quality_loss: 1.5697 - wine_type_loss: 0.1760 - wine_quality_root_mean_squared_error: 1.2520 - wine_type_accuracy: 0.9848 - val_loss: 1.6297 - val_wine_quality_loss: 1.4828 - val_wine_type_loss: 0.1585 - val_wine_quality_root_mean_squared_error: 1.2129 - val_wine_type_accuracy: 0.9886\n",
      "Epoch 8/180\n",
      "3155/3155 [==============================] - 0s 96us/sample - loss: 1.5743 - wine_quality_loss: 1.4350 - wine_type_loss: 0.1371 - wine_quality_root_mean_squared_error: 1.1988 - wine_type_accuracy: 0.9873 - val_loss: 1.4728 - val_wine_quality_loss: 1.3559 - val_wine_type_loss: 0.1261 - val_wine_quality_root_mean_squared_error: 1.1605 - val_wine_type_accuracy: 0.9899\n",
      "Epoch 9/180\n",
      "3155/3155 [==============================] - 0s 114us/sample - loss: 1.4461 - wine_quality_loss: 1.3345 - wine_type_loss: 0.1109 - wine_quality_root_mean_squared_error: 1.1555 - wine_type_accuracy: 0.9889 - val_loss: 1.3494 - val_wine_quality_loss: 1.2535 - val_wine_type_loss: 0.1026 - val_wine_quality_root_mean_squared_error: 1.1166 - val_wine_type_accuracy: 0.9911\n",
      "Epoch 10/180\n",
      "3155/3155 [==============================] - 0s 96us/sample - loss: 1.3366 - wine_quality_loss: 1.2447 - wine_type_loss: 0.0918 - wine_quality_root_mean_squared_error: 1.1158 - wine_type_accuracy: 0.9899 - val_loss: 1.2456 - val_wine_quality_loss: 1.1647 - val_wine_type_loss: 0.0857 - val_wine_quality_root_mean_squared_error: 1.0769 - val_wine_type_accuracy: 0.9911\n",
      "Epoch 11/180\n",
      "3155/3155 [==============================] - 0s 97us/sample - loss: 1.2416 - wine_quality_loss: 1.1624 - wine_type_loss: 0.0776 - wine_quality_root_mean_squared_error: 1.0788 - wine_type_accuracy: 0.9905 - val_loss: 1.1664 - val_wine_quality_loss: 1.0962 - val_wine_type_loss: 0.0728 - val_wine_quality_root_mean_squared_error: 1.0457 - val_wine_type_accuracy: 0.9924\n",
      "Epoch 12/180\n",
      "3155/3155 [==============================] - 0s 95us/sample - loss: 1.1612 - wine_quality_loss: 1.0923 - wine_type_loss: 0.0679 - wine_quality_root_mean_squared_error: 1.0458 - wine_type_accuracy: 0.9918 - val_loss: 1.0869 - val_wine_quality_loss: 1.0245 - val_wine_type_loss: 0.0643 - val_wine_quality_root_mean_squared_error: 1.0112 - val_wine_type_accuracy: 0.9937\n",
      "Epoch 13/180\n",
      "3155/3155 [==============================] - 0s 97us/sample - loss: 1.0895 - wine_quality_loss: 1.0301 - wine_type_loss: 0.0603 - wine_quality_root_mean_squared_error: 1.0145 - wine_type_accuracy: 0.9918 - val_loss: 1.0179 - val_wine_quality_loss: 0.9612 - val_wine_type_loss: 0.0575 - val_wine_quality_root_mean_squared_error: 0.9799 - val_wine_type_accuracy: 0.9937\n",
      "Epoch 14/180\n",
      "3155/3155 [==============================] - 0s 97us/sample - loss: 1.0272 - wine_quality_loss: 0.9700 - wine_type_loss: 0.0547 - wine_quality_root_mean_squared_error: 0.9862 - wine_type_accuracy: 0.9921 - val_loss: 0.9584 - val_wine_quality_loss: 0.9062 - val_wine_type_loss: 0.0526 - val_wine_quality_root_mean_squared_error: 0.9517 - val_wine_type_accuracy: 0.9937\n",
      "Epoch 15/180\n",
      "3155/3155 [==============================] - 0s 99us/sample - loss: 0.9662 - wine_quality_loss: 0.9159 - wine_type_loss: 0.0504 - wine_quality_root_mean_squared_error: 0.9569 - wine_type_accuracy: 0.9918 - val_loss: 0.9122 - val_wine_quality_loss: 0.8632 - val_wine_type_loss: 0.0485 - val_wine_quality_root_mean_squared_error: 0.9293 - val_wine_type_accuracy: 0.9949\n",
      "Epoch 16/180\n",
      "3155/3155 [==============================] - 0s 124us/sample - loss: 0.9135 - wine_quality_loss: 0.8654 - wine_type_loss: 0.0470 - wine_quality_root_mean_squared_error: 0.9308 - wine_type_accuracy: 0.9927 - val_loss: 0.8478 - val_wine_quality_loss: 0.8018 - val_wine_type_loss: 0.0455 - val_wine_quality_root_mean_squared_error: 0.8956 - val_wine_type_accuracy: 0.9949\n",
      "Epoch 17/180\n",
      "3155/3155 [==============================] - 0s 98us/sample - loss: 0.8661 - wine_quality_loss: 0.8207 - wine_type_loss: 0.0444 - wine_quality_root_mean_squared_error: 0.9064 - wine_type_accuracy: 0.9930 - val_loss: 0.8049 - val_wine_quality_loss: 0.7609 - val_wine_type_loss: 0.0432 - val_wine_quality_root_mean_squared_error: 0.8726 - val_wine_type_accuracy: 0.9949\n",
      "Epoch 18/180\n",
      "3155/3155 [==============================] - 0s 112us/sample - loss: 0.8211 - wine_quality_loss: 0.7793 - wine_type_loss: 0.0422 - wine_quality_root_mean_squared_error: 0.8825 - wine_type_accuracy: 0.9930 - val_loss: 0.7670 - val_wine_quality_loss: 0.7246 - val_wine_type_loss: 0.0410 - val_wine_quality_root_mean_squared_error: 0.8519 - val_wine_type_accuracy: 0.9962\n",
      "Epoch 19/180\n",
      "3155/3155 [==============================] - 0s 97us/sample - loss: 0.7793 - wine_quality_loss: 0.7387 - wine_type_loss: 0.0403 - wine_quality_root_mean_squared_error: 0.8596 - wine_type_accuracy: 0.9930 - val_loss: 0.7324 - val_wine_quality_loss: 0.6913 - val_wine_type_loss: 0.0396 - val_wine_quality_root_mean_squared_error: 0.8322 - val_wine_type_accuracy: 0.9962\n",
      "Epoch 20/180\n",
      "3155/3155 [==============================] - 0s 97us/sample - loss: 0.7429 - wine_quality_loss: 0.7047 - wine_type_loss: 0.0400 - wine_quality_root_mean_squared_error: 0.8391 - wine_type_accuracy: 0.9933 - val_loss: 0.7075 - val_wine_quality_loss: 0.6679 - val_wine_type_loss: 0.0381 - val_wine_quality_root_mean_squared_error: 0.8180 - val_wine_type_accuracy: 0.9962\n",
      "Epoch 21/180\n",
      "3155/3155 [==============================] - 0s 98us/sample - loss: 0.7109 - wine_quality_loss: 0.6733 - wine_type_loss: 0.0375 - wine_quality_root_mean_squared_error: 0.8206 - wine_type_accuracy: 0.9933 - val_loss: 0.6794 - val_wine_quality_loss: 0.6408 - val_wine_type_loss: 0.0370 - val_wine_quality_root_mean_squared_error: 0.8013 - val_wine_type_accuracy: 0.9962\n",
      "Epoch 22/180\n",
      "3155/3155 [==============================] - 0s 96us/sample - loss: 0.6777 - wine_quality_loss: 0.6553 - wine_type_loss: 0.0364 - wine_quality_root_mean_squared_error: 0.8008 - wine_type_accuracy: 0.9930 - val_loss: 0.6378 - val_wine_quality_loss: 0.6003 - val_wine_type_loss: 0.0360 - val_wine_quality_root_mean_squared_error: 0.7756 - val_wine_type_accuracy: 0.9962\n",
      "Epoch 23/180\n",
      "3155/3155 [==============================] - 0s 97us/sample - loss: 0.6501 - wine_quality_loss: 0.6165 - wine_type_loss: 0.0354 - wine_quality_root_mean_squared_error: 0.7840 - wine_type_accuracy: 0.9927 - val_loss: 0.6106 - val_wine_quality_loss: 0.5737 - val_wine_type_loss: 0.0355 - val_wine_quality_root_mean_squared_error: 0.7582 - val_wine_type_accuracy: 0.9962\n",
      "Epoch 24/180\n",
      "3155/3155 [==============================] - 0s 96us/sample - loss: 0.6252 - wine_quality_loss: 0.5905 - wine_type_loss: 0.0345 - wine_quality_root_mean_squared_error: 0.7685 - wine_type_accuracy: 0.9930 - val_loss: 0.5908 - val_wine_quality_loss: 0.5545 - val_wine_type_loss: 0.0348 - val_wine_quality_root_mean_squared_error: 0.7455 - val_wine_type_accuracy: 0.9962\n",
      "Epoch 25/180\n",
      "3155/3155 [==============================] - 0s 97us/sample - loss: 0.6000 - wine_quality_loss: 0.5660 - wine_type_loss: 0.0339 - wine_quality_root_mean_squared_error: 0.7525 - wine_type_accuracy: 0.9937 - val_loss: 0.5673 - val_wine_quality_loss: 0.5313 - val_wine_type_loss: 0.0341 - val_wine_quality_root_mean_squared_error: 0.7299 - val_wine_type_accuracy: 0.9962\n",
      "Epoch 26/180\n",
      "3155/3155 [==============================] - 0s 114us/sample - loss: 0.5773 - wine_quality_loss: 0.5446 - wine_type_loss: 0.0331 - wine_quality_root_mean_squared_error: 0.7376 - wine_type_accuracy: 0.9933 - val_loss: 0.5498 - val_wine_quality_loss: 0.5142 - val_wine_type_loss: 0.0336 - val_wine_quality_root_mean_squared_error: 0.7182 - val_wine_type_accuracy: 0.9962\n",
      "Epoch 27/180\n",
      "3155/3155 [==============================] - 0s 97us/sample - loss: 0.5552 - wine_quality_loss: 0.5237 - wine_type_loss: 0.0326 - wine_quality_root_mean_squared_error: 0.7229 - wine_type_accuracy: 0.9937 - val_loss: 0.5336 - val_wine_quality_loss: 0.4990 - val_wine_type_loss: 0.0331 - val_wine_quality_root_mean_squared_error: 0.7072 - val_wine_type_accuracy: 0.9949\n",
      "Epoch 28/180\n",
      "3155/3155 [==============================] - 0s 95us/sample - loss: 0.5375 - wine_quality_loss: 0.5062 - wine_type_loss: 0.0319 - wine_quality_root_mean_squared_error: 0.7110 - wine_type_accuracy: 0.9933 - val_loss: 0.5154 - val_wine_quality_loss: 0.4806 - val_wine_type_loss: 0.0330 - val_wine_quality_root_mean_squared_error: 0.6944 - val_wine_type_accuracy: 0.9962\n",
      "Epoch 29/180\n",
      "3155/3155 [==============================] - 0s 95us/sample - loss: 0.5177 - wine_quality_loss: 0.4854 - wine_type_loss: 0.0315 - wine_quality_root_mean_squared_error: 0.6973 - wine_type_accuracy: 0.9940 - val_loss: 0.4943 - val_wine_quality_loss: 0.4600 - val_wine_type_loss: 0.0325 - val_wine_quality_root_mean_squared_error: 0.6793 - val_wine_type_accuracy: 0.9949\n",
      "Epoch 30/180\n",
      "3155/3155 [==============================] - 0s 96us/sample - loss: 0.5036 - wine_quality_loss: 0.4722 - wine_type_loss: 0.0311 - wine_quality_root_mean_squared_error: 0.6873 - wine_type_accuracy: 0.9940 - val_loss: 0.4897 - val_wine_quality_loss: 0.4559 - val_wine_type_loss: 0.0324 - val_wine_quality_root_mean_squared_error: 0.6760 - val_wine_type_accuracy: 0.9949\n",
      "Epoch 31/180\n",
      "3155/3155 [==============================] - 0s 97us/sample - loss: 0.4892 - wine_quality_loss: 0.4575 - wine_type_loss: 0.0307 - wine_quality_root_mean_squared_error: 0.6771 - wine_type_accuracy: 0.9946 - val_loss: 0.4788 - val_wine_quality_loss: 0.4456 - val_wine_type_loss: 0.0319 - val_wine_quality_root_mean_squared_error: 0.6683 - val_wine_type_accuracy: 0.9949\n",
      "Epoch 32/180\n",
      "3155/3155 [==============================] - 0s 96us/sample - loss: 0.4744 - wine_quality_loss: 0.4436 - wine_type_loss: 0.0303 - wine_quality_root_mean_squared_error: 0.6663 - wine_type_accuracy: 0.9937 - val_loss: 0.4574 - val_wine_quality_loss: 0.4244 - val_wine_type_loss: 0.0316 - val_wine_quality_root_mean_squared_error: 0.6523 - val_wine_type_accuracy: 0.9949\n",
      "Epoch 33/180\n",
      "3155/3155 [==============================] - 0s 95us/sample - loss: 0.4620 - wine_quality_loss: 0.4320 - wine_type_loss: 0.0301 - wine_quality_root_mean_squared_error: 0.6573 - wine_type_accuracy: 0.9946 - val_loss: 0.4445 - val_wine_quality_loss: 0.4114 - val_wine_type_loss: 0.0314 - val_wine_quality_root_mean_squared_error: 0.6425 - val_wine_type_accuracy: 0.9949\n",
      "Epoch 34/180\n",
      "3155/3155 [==============================] - 0s 97us/sample - loss: 0.4519 - wine_quality_loss: 0.4215 - wine_type_loss: 0.0296 - wine_quality_root_mean_squared_error: 0.6498 - wine_type_accuracy: 0.9943 - val_loss: 0.4394 - val_wine_quality_loss: 0.4069 - val_wine_type_loss: 0.0311 - val_wine_quality_root_mean_squared_error: 0.6387 - val_wine_type_accuracy: 0.9949\n",
      "Epoch 35/180\n",
      "3155/3155 [==============================] - 0s 97us/sample - loss: 0.4398 - wine_quality_loss: 0.4097 - wine_type_loss: 0.0294 - wine_quality_root_mean_squared_error: 0.6405 - wine_type_accuracy: 0.9937 - val_loss: 0.4292 - val_wine_quality_loss: 0.3972 - val_wine_type_loss: 0.0309 - val_wine_quality_root_mean_squared_error: 0.6308 - val_wine_type_accuracy: 0.9949\n",
      "Epoch 36/180\n",
      "3155/3155 [==============================] - 0s 96us/sample - loss: 0.4309 - wine_quality_loss: 0.4019 - wine_type_loss: 0.0291 - wine_quality_root_mean_squared_error: 0.6339 - wine_type_accuracy: 0.9940 - val_loss: 0.4148 - val_wine_quality_loss: 0.3824 - val_wine_type_loss: 0.0310 - val_wine_quality_root_mean_squared_error: 0.6192 - val_wine_type_accuracy: 0.9949\n",
      "Epoch 37/180\n",
      "3155/3155 [==============================] - 0s 95us/sample - loss: 0.4222 - wine_quality_loss: 0.3929 - wine_type_loss: 0.0289 - wine_quality_root_mean_squared_error: 0.6271 - wine_type_accuracy: 0.9946 - val_loss: 0.4070 - val_wine_quality_loss: 0.3749 - val_wine_type_loss: 0.0308 - val_wine_quality_root_mean_squared_error: 0.6130 - val_wine_type_accuracy: 0.9949\n",
      "Epoch 38/180\n",
      "3155/3155 [==============================] - 0s 95us/sample - loss: 0.4143 - wine_quality_loss: 0.3854 - wine_type_loss: 0.0285 - wine_quality_root_mean_squared_error: 0.6210 - wine_type_accuracy: 0.9946 - val_loss: 0.4076 - val_wine_quality_loss: 0.3755 - val_wine_type_loss: 0.0305 - val_wine_quality_root_mean_squared_error: 0.6137 - val_wine_type_accuracy: 0.9949\n",
      "Epoch 39/180\n",
      "3155/3155 [==============================] - 0s 97us/sample - loss: 0.4062 - wine_quality_loss: 0.3788 - wine_type_loss: 0.0284 - wine_quality_root_mean_squared_error: 0.6146 - wine_type_accuracy: 0.9949 - val_loss: 0.3970 - val_wine_quality_loss: 0.3651 - val_wine_type_loss: 0.0304 - val_wine_quality_root_mean_squared_error: 0.6052 - val_wine_type_accuracy: 0.9949\n",
      "Epoch 40/180\n",
      "3155/3155 [==============================] - 0s 96us/sample - loss: 0.3990 - wine_quality_loss: 0.3711 - wine_type_loss: 0.0282 - wine_quality_root_mean_squared_error: 0.6088 - wine_type_accuracy: 0.9949 - val_loss: 0.3892 - val_wine_quality_loss: 0.3578 - val_wine_type_loss: 0.0303 - val_wine_quality_root_mean_squared_error: 0.5987 - val_wine_type_accuracy: 0.9949\n",
      "Epoch 41/180\n",
      "3155/3155 [==============================] - 0s 96us/sample - loss: 0.3926 - wine_quality_loss: 0.3639 - wine_type_loss: 0.0280 - wine_quality_root_mean_squared_error: 0.6038 - wine_type_accuracy: 0.9949 - val_loss: 0.3964 - val_wine_quality_loss: 0.3643 - val_wine_type_loss: 0.0303 - val_wine_quality_root_mean_squared_error: 0.6048 - val_wine_type_accuracy: 0.9949\n",
      "Epoch 42/180\n",
      "3155/3155 [==============================] - 0s 94us/sample - loss: 0.3877 - wine_quality_loss: 0.3596 - wine_type_loss: 0.0277 - wine_quality_root_mean_squared_error: 0.5999 - wine_type_accuracy: 0.9949 - val_loss: 0.3784 - val_wine_quality_loss: 0.3470 - val_wine_type_loss: 0.0299 - val_wine_quality_root_mean_squared_error: 0.5900 - val_wine_type_accuracy: 0.9949\n",
      "Epoch 43/180\n",
      "3155/3155 [==============================] - 0s 97us/sample - loss: 0.3830 - wine_quality_loss: 0.3559 - wine_type_loss: 0.0275 - wine_quality_root_mean_squared_error: 0.5961 - wine_type_accuracy: 0.9949 - val_loss: 0.3786 - val_wine_quality_loss: 0.3473 - val_wine_type_loss: 0.0300 - val_wine_quality_root_mean_squared_error: 0.5901 - val_wine_type_accuracy: 0.9949\n",
      "Epoch 44/180\n",
      "3155/3155 [==============================] - 0s 95us/sample - loss: 0.3778 - wine_quality_loss: 0.3499 - wine_type_loss: 0.0273 - wine_quality_root_mean_squared_error: 0.5920 - wine_type_accuracy: 0.9949 - val_loss: 0.3762 - val_wine_quality_loss: 0.3452 - val_wine_type_loss: 0.0299 - val_wine_quality_root_mean_squared_error: 0.5882 - val_wine_type_accuracy: 0.9949\n",
      "Epoch 45/180\n",
      "3155/3155 [==============================] - 0s 94us/sample - loss: 0.3738 - wine_quality_loss: 0.3469 - wine_type_loss: 0.0271 - wine_quality_root_mean_squared_error: 0.5887 - wine_type_accuracy: 0.9949 - val_loss: 0.3712 - val_wine_quality_loss: 0.3399 - val_wine_type_loss: 0.0299 - val_wine_quality_root_mean_squared_error: 0.5839 - val_wine_type_accuracy: 0.9949\n",
      "Epoch 46/180\n",
      "3155/3155 [==============================] - 0s 96us/sample - loss: 0.3701 - wine_quality_loss: 0.3428 - wine_type_loss: 0.0269 - wine_quality_root_mean_squared_error: 0.5858 - wine_type_accuracy: 0.9949 - val_loss: 0.3721 - val_wine_quality_loss: 0.3410 - val_wine_type_loss: 0.0298 - val_wine_quality_root_mean_squared_error: 0.5848 - val_wine_type_accuracy: 0.9949\n",
      "Epoch 47/180\n",
      "3155/3155 [==============================] - 0s 95us/sample - loss: 0.3653 - wine_quality_loss: 0.3381 - wine_type_loss: 0.0267 - wine_quality_root_mean_squared_error: 0.5819 - wine_type_accuracy: 0.9949 - val_loss: 0.3617 - val_wine_quality_loss: 0.3309 - val_wine_type_loss: 0.0297 - val_wine_quality_root_mean_squared_error: 0.5759 - val_wine_type_accuracy: 0.9949\n",
      "Epoch 48/180\n",
      "3155/3155 [==============================] - 0s 92us/sample - loss: 0.3622 - wine_quality_loss: 0.3351 - wine_type_loss: 0.0265 - wine_quality_root_mean_squared_error: 0.5794 - wine_type_accuracy: 0.9949 - val_loss: 0.3607 - val_wine_quality_loss: 0.3301 - val_wine_type_loss: 0.0296 - val_wine_quality_root_mean_squared_error: 0.5751 - val_wine_type_accuracy: 0.9949\n",
      "Epoch 49/180\n",
      "3155/3155 [==============================] - 0s 96us/sample - loss: 0.3578 - wine_quality_loss: 0.3311 - wine_type_loss: 0.0263 - wine_quality_root_mean_squared_error: 0.5757 - wine_type_accuracy: 0.9949 - val_loss: 0.3642 - val_wine_quality_loss: 0.3334 - val_wine_type_loss: 0.0295 - val_wine_quality_root_mean_squared_error: 0.5782 - val_wine_type_accuracy: 0.9949\n",
      "Epoch 50/180\n",
      "3155/3155 [==============================] - 0s 97us/sample - loss: 0.3548 - wine_quality_loss: 0.3289 - wine_type_loss: 0.0261 - wine_quality_root_mean_squared_error: 0.5732 - wine_type_accuracy: 0.9949 - val_loss: 0.3572 - val_wine_quality_loss: 0.3269 - val_wine_type_loss: 0.0294 - val_wine_quality_root_mean_squared_error: 0.5722 - val_wine_type_accuracy: 0.9949\n",
      "Epoch 51/180\n",
      "3155/3155 [==============================] - 0s 95us/sample - loss: 0.3526 - wine_quality_loss: 0.3263 - wine_type_loss: 0.0259 - wine_quality_root_mean_squared_error: 0.5716 - wine_type_accuracy: 0.9949 - val_loss: 0.3606 - val_wine_quality_loss: 0.3300 - val_wine_type_loss: 0.0295 - val_wine_quality_root_mean_squared_error: 0.5751 - val_wine_type_accuracy: 0.9949\n",
      "Epoch 52/180\n",
      "3155/3155 [==============================] - 0s 96us/sample - loss: 0.3496 - wine_quality_loss: 0.3240 - wine_type_loss: 0.0258 - wine_quality_root_mean_squared_error: 0.5691 - wine_type_accuracy: 0.9949 - val_loss: 0.3543 - val_wine_quality_loss: 0.3242 - val_wine_type_loss: 0.0292 - val_wine_quality_root_mean_squared_error: 0.5699 - val_wine_type_accuracy: 0.9949\n",
      "Epoch 53/180\n",
      "3155/3155 [==============================] - 0s 96us/sample - loss: 0.3487 - wine_quality_loss: 0.3231 - wine_type_loss: 0.0256 - wine_quality_root_mean_squared_error: 0.5684 - wine_type_accuracy: 0.9949 - val_loss: 0.3593 - val_wine_quality_loss: 0.3287 - val_wine_type_loss: 0.0292 - val_wine_quality_root_mean_squared_error: 0.5743 - val_wine_type_accuracy: 0.9949\n",
      "Epoch 54/180\n",
      "3155/3155 [==============================] - 0s 95us/sample - loss: 0.3452 - wine_quality_loss: 0.3194 - wine_type_loss: 0.0253 - wine_quality_root_mean_squared_error: 0.5656 - wine_type_accuracy: 0.9949 - val_loss: 0.3558 - val_wine_quality_loss: 0.3257 - val_wine_type_loss: 0.0291 - val_wine_quality_root_mean_squared_error: 0.5713 - val_wine_type_accuracy: 0.9949\n",
      "Epoch 55/180\n",
      "3155/3155 [==============================] - 0s 96us/sample - loss: 0.3441 - wine_quality_loss: 0.3187 - wine_type_loss: 0.0252 - wine_quality_root_mean_squared_error: 0.5646 - wine_type_accuracy: 0.9949 - val_loss: 0.3535 - val_wine_quality_loss: 0.3234 - val_wine_type_loss: 0.0292 - val_wine_quality_root_mean_squared_error: 0.5692 - val_wine_type_accuracy: 0.9949\n",
      "Epoch 56/180\n",
      "3155/3155 [==============================] - 0s 95us/sample - loss: 0.3414 - wine_quality_loss: 0.3158 - wine_type_loss: 0.0251 - wine_quality_root_mean_squared_error: 0.5624 - wine_type_accuracy: 0.9949 - val_loss: 0.3531 - val_wine_quality_loss: 0.3227 - val_wine_type_loss: 0.0292 - val_wine_quality_root_mean_squared_error: 0.5689 - val_wine_type_accuracy: 0.9949\n",
      "Epoch 57/180\n",
      "3155/3155 [==============================] - 0s 95us/sample - loss: 0.3401 - wine_quality_loss: 0.3158 - wine_type_loss: 0.0248 - wine_quality_root_mean_squared_error: 0.5614 - wine_type_accuracy: 0.9952 - val_loss: 0.3533 - val_wine_quality_loss: 0.3229 - val_wine_type_loss: 0.0291 - val_wine_quality_root_mean_squared_error: 0.5691 - val_wine_type_accuracy: 0.9949\n",
      "Epoch 58/180\n",
      "3155/3155 [==============================] - 0s 97us/sample - loss: 0.3379 - wine_quality_loss: 0.3127 - wine_type_loss: 0.0247 - wine_quality_root_mean_squared_error: 0.5596 - wine_type_accuracy: 0.9949 - val_loss: 0.3496 - val_wine_quality_loss: 0.3195 - val_wine_type_loss: 0.0290 - val_wine_quality_root_mean_squared_error: 0.5658 - val_wine_type_accuracy: 0.9949\n",
      "Epoch 59/180\n",
      "3155/3155 [==============================] - 0s 96us/sample - loss: 0.3364 - wine_quality_loss: 0.3123 - wine_type_loss: 0.0245 - wine_quality_root_mean_squared_error: 0.5584 - wine_type_accuracy: 0.9952 - val_loss: 0.3473 - val_wine_quality_loss: 0.3173 - val_wine_type_loss: 0.0289 - val_wine_quality_root_mean_squared_error: 0.5640 - val_wine_type_accuracy: 0.9949\n",
      "Epoch 60/180\n",
      "3155/3155 [==============================] - 0s 96us/sample - loss: 0.3348 - wine_quality_loss: 0.3104 - wine_type_loss: 0.0244 - wine_quality_root_mean_squared_error: 0.5571 - wine_type_accuracy: 0.9952 - val_loss: 0.3490 - val_wine_quality_loss: 0.3188 - val_wine_type_loss: 0.0289 - val_wine_quality_root_mean_squared_error: 0.5655 - val_wine_type_accuracy: 0.9949\n",
      "Epoch 61/180\n",
      "3155/3155 [==============================] - 0s 97us/sample - loss: 0.3339 - wine_quality_loss: 0.3099 - wine_type_loss: 0.0242 - wine_quality_root_mean_squared_error: 0.5565 - wine_type_accuracy: 0.9952 - val_loss: 0.3467 - val_wine_quality_loss: 0.3169 - val_wine_type_loss: 0.0289 - val_wine_quality_root_mean_squared_error: 0.5634 - val_wine_type_accuracy: 0.9949\n",
      "Epoch 62/180\n",
      "3155/3155 [==============================] - 0s 96us/sample - loss: 0.3323 - wine_quality_loss: 0.3085 - wine_type_loss: 0.0240 - wine_quality_root_mean_squared_error: 0.5551 - wine_type_accuracy: 0.9952 - val_loss: 0.3455 - val_wine_quality_loss: 0.3158 - val_wine_type_loss: 0.0288 - val_wine_quality_root_mean_squared_error: 0.5624 - val_wine_type_accuracy: 0.9949\n",
      "Epoch 63/180\n",
      "3155/3155 [==============================] - 0s 112us/sample - loss: 0.3301 - wine_quality_loss: 0.3061 - wine_type_loss: 0.0239 - wine_quality_root_mean_squared_error: 0.5533 - wine_type_accuracy: 0.9952 - val_loss: 0.3500 - val_wine_quality_loss: 0.3199 - val_wine_type_loss: 0.0289 - val_wine_quality_root_mean_squared_error: 0.5663 - val_wine_type_accuracy: 0.9949\n",
      "Epoch 64/180\n",
      "3155/3155 [==============================] - 0s 95us/sample - loss: 0.3293 - wine_quality_loss: 0.3049 - wine_type_loss: 0.0238 - wine_quality_root_mean_squared_error: 0.5527 - wine_type_accuracy: 0.9952 - val_loss: 0.3534 - val_wine_quality_loss: 0.3232 - val_wine_type_loss: 0.0289 - val_wine_quality_root_mean_squared_error: 0.5693 - val_wine_type_accuracy: 0.9949\n",
      "Epoch 65/180\n",
      "3155/3155 [==============================] - 0s 99us/sample - loss: 0.3283 - wine_quality_loss: 0.3045 - wine_type_loss: 0.0236 - wine_quality_root_mean_squared_error: 0.5519 - wine_type_accuracy: 0.9952 - val_loss: 0.3468 - val_wine_quality_loss: 0.3169 - val_wine_type_loss: 0.0288 - val_wine_quality_root_mean_squared_error: 0.5637 - val_wine_type_accuracy: 0.9949\n",
      "Epoch 66/180\n",
      "3155/3155 [==============================] - 0s 97us/sample - loss: 0.3277 - wine_quality_loss: 0.3044 - wine_type_loss: 0.0247 - wine_quality_root_mean_squared_error: 0.5515 - wine_type_accuracy: 0.9952 - val_loss: 0.3479 - val_wine_quality_loss: 0.3181 - val_wine_type_loss: 0.0288 - val_wine_quality_root_mean_squared_error: 0.5646 - val_wine_type_accuracy: 0.9949\n",
      "Epoch 67/180\n",
      "3155/3155 [==============================] - 0s 97us/sample - loss: 0.3254 - wine_quality_loss: 0.3028 - wine_type_loss: 0.0234 - wine_quality_root_mean_squared_error: 0.5495 - wine_type_accuracy: 0.9952 - val_loss: 0.3482 - val_wine_quality_loss: 0.3184 - val_wine_type_loss: 0.0286 - val_wine_quality_root_mean_squared_error: 0.5650 - val_wine_type_accuracy: 0.9949\n",
      "Epoch 68/180\n",
      "3155/3155 [==============================] - 0s 99us/sample - loss: 0.3241 - wine_quality_loss: 0.3005 - wine_type_loss: 0.0231 - wine_quality_root_mean_squared_error: 0.5485 - wine_type_accuracy: 0.9952 - val_loss: 0.3518 - val_wine_quality_loss: 0.3218 - val_wine_type_loss: 0.0288 - val_wine_quality_root_mean_squared_error: 0.5681 - val_wine_type_accuracy: 0.9949\n",
      "Epoch 69/180\n",
      "3155/3155 [==============================] - 0s 111us/sample - loss: 0.3244 - wine_quality_loss: 0.3006 - wine_type_loss: 0.0231 - wine_quality_root_mean_squared_error: 0.5489 - wine_type_accuracy: 0.9952 - val_loss: 0.3418 - val_wine_quality_loss: 0.3120 - val_wine_type_loss: 0.0287 - val_wine_quality_root_mean_squared_error: 0.5592 - val_wine_type_accuracy: 0.9949\n",
      "Epoch 70/180\n",
      "3155/3155 [==============================] - 0s 96us/sample - loss: 0.3229 - wine_quality_loss: 0.2996 - wine_type_loss: 0.0230 - wine_quality_root_mean_squared_error: 0.5476 - wine_type_accuracy: 0.9952 - val_loss: 0.3471 - val_wine_quality_loss: 0.3171 - val_wine_type_loss: 0.0288 - val_wine_quality_root_mean_squared_error: 0.5638 - val_wine_type_accuracy: 0.9949\n",
      "Epoch 71/180\n",
      "3155/3155 [==============================] - 0s 95us/sample - loss: 0.3219 - wine_quality_loss: 0.2988 - wine_type_loss: 0.0228 - wine_quality_root_mean_squared_error: 0.5468 - wine_type_accuracy: 0.9952 - val_loss: 0.3491 - val_wine_quality_loss: 0.3194 - val_wine_type_loss: 0.0286 - val_wine_quality_root_mean_squared_error: 0.5658 - val_wine_type_accuracy: 0.9949\n",
      "Epoch 72/180\n",
      "3155/3155 [==============================] - 0s 97us/sample - loss: 0.3202 - wine_quality_loss: 0.2981 - wine_type_loss: 0.0227 - wine_quality_root_mean_squared_error: 0.5454 - wine_type_accuracy: 0.9952 - val_loss: 0.3489 - val_wine_quality_loss: 0.3194 - val_wine_type_loss: 0.0285 - val_wine_quality_root_mean_squared_error: 0.5657 - val_wine_type_accuracy: 0.9949\n",
      "Epoch 73/180\n",
      "3155/3155 [==============================] - 0s 95us/sample - loss: 0.3194 - wine_quality_loss: 0.2966 - wine_type_loss: 0.0226 - wine_quality_root_mean_squared_error: 0.5447 - wine_type_accuracy: 0.9952 - val_loss: 0.3433 - val_wine_quality_loss: 0.3136 - val_wine_type_loss: 0.0285 - val_wine_quality_root_mean_squared_error: 0.5608 - val_wine_type_accuracy: 0.9949\n",
      "Epoch 74/180\n",
      "3155/3155 [==============================] - 0s 96us/sample - loss: 0.3189 - wine_quality_loss: 0.2963 - wine_type_loss: 0.0224 - wine_quality_root_mean_squared_error: 0.5444 - wine_type_accuracy: 0.9952 - val_loss: 0.3438 - val_wine_quality_loss: 0.3144 - val_wine_type_loss: 0.0284 - val_wine_quality_root_mean_squared_error: 0.5613 - val_wine_type_accuracy: 0.9949\n",
      "Epoch 75/180\n",
      "3155/3155 [==============================] - 0s 96us/sample - loss: 0.3177 - wine_quality_loss: 0.2958 - wine_type_loss: 0.0223 - wine_quality_root_mean_squared_error: 0.5434 - wine_type_accuracy: 0.9952 - val_loss: 0.3491 - val_wine_quality_loss: 0.3195 - val_wine_type_loss: 0.0285 - val_wine_quality_root_mean_squared_error: 0.5659 - val_wine_type_accuracy: 0.9949\n",
      "Epoch 76/180\n",
      "3155/3155 [==============================] - 0s 94us/sample - loss: 0.3173 - wine_quality_loss: 0.2947 - wine_type_loss: 0.0222 - wine_quality_root_mean_squared_error: 0.5432 - wine_type_accuracy: 0.9952 - val_loss: 0.3481 - val_wine_quality_loss: 0.3187 - val_wine_type_loss: 0.0283 - val_wine_quality_root_mean_squared_error: 0.5652 - val_wine_type_accuracy: 0.9949\n",
      "Epoch 77/180\n",
      "3155/3155 [==============================] - 0s 96us/sample - loss: 0.3159 - wine_quality_loss: 0.2934 - wine_type_loss: 0.0221 - wine_quality_root_mean_squared_error: 0.5420 - wine_type_accuracy: 0.9952 - val_loss: 0.3442 - val_wine_quality_loss: 0.3149 - val_wine_type_loss: 0.0283 - val_wine_quality_root_mean_squared_error: 0.5618 - val_wine_type_accuracy: 0.9949\n",
      "Epoch 78/180\n",
      "3155/3155 [==============================] - 0s 96us/sample - loss: 0.3145 - wine_quality_loss: 0.2924 - wine_type_loss: 0.0220 - wine_quality_root_mean_squared_error: 0.5408 - wine_type_accuracy: 0.9952 - val_loss: 0.3469 - val_wine_quality_loss: 0.3176 - val_wine_type_loss: 0.0283 - val_wine_quality_root_mean_squared_error: 0.5641 - val_wine_type_accuracy: 0.9949\n",
      "Epoch 79/180\n",
      "3155/3155 [==============================] - 0s 96us/sample - loss: 0.3144 - wine_quality_loss: 0.2930 - wine_type_loss: 0.0219 - wine_quality_root_mean_squared_error: 0.5408 - wine_type_accuracy: 0.9952 - val_loss: 0.3561 - val_wine_quality_loss: 0.3267 - val_wine_type_loss: 0.0282 - val_wine_quality_root_mean_squared_error: 0.5723 - val_wine_type_accuracy: 0.9949\n",
      "Epoch 80/180\n",
      "3155/3155 [==============================] - 0s 96us/sample - loss: 0.3137 - wine_quality_loss: 0.2917 - wine_type_loss: 0.0218 - wine_quality_root_mean_squared_error: 0.5402 - wine_type_accuracy: 0.9952 - val_loss: 0.3430 - val_wine_quality_loss: 0.3140 - val_wine_type_loss: 0.0282 - val_wine_quality_root_mean_squared_error: 0.5608 - val_wine_type_accuracy: 0.9949\n",
      "Epoch 81/180\n",
      "3155/3155 [==============================] - 0s 95us/sample - loss: 0.3120 - wine_quality_loss: 0.2901 - wine_type_loss: 0.0217 - wine_quality_root_mean_squared_error: 0.5388 - wine_type_accuracy: 0.9952 - val_loss: 0.3412 - val_wine_quality_loss: 0.3122 - val_wine_type_loss: 0.0281 - val_wine_quality_root_mean_squared_error: 0.5592 - val_wine_type_accuracy: 0.9949\n",
      "Epoch 82/180\n",
      "3155/3155 [==============================] - 0s 95us/sample - loss: 0.3116 - wine_quality_loss: 0.2903 - wine_type_loss: 0.0215 - wine_quality_root_mean_squared_error: 0.5385 - wine_type_accuracy: 0.9952 - val_loss: 0.3441 - val_wine_quality_loss: 0.3150 - val_wine_type_loss: 0.0281 - val_wine_quality_root_mean_squared_error: 0.5619 - val_wine_type_accuracy: 0.9949\n",
      "Epoch 83/180\n",
      "3155/3155 [==============================] - 0s 95us/sample - loss: 0.3109 - wine_quality_loss: 0.2894 - wine_type_loss: 0.0215 - wine_quality_root_mean_squared_error: 0.5379 - wine_type_accuracy: 0.9952 - val_loss: 0.3444 - val_wine_quality_loss: 0.3155 - val_wine_type_loss: 0.0280 - val_wine_quality_root_mean_squared_error: 0.5621 - val_wine_type_accuracy: 0.9949\n",
      "Epoch 84/180\n",
      "3155/3155 [==============================] - 0s 96us/sample - loss: 0.3101 - wine_quality_loss: 0.2894 - wine_type_loss: 0.0213 - wine_quality_root_mean_squared_error: 0.5374 - wine_type_accuracy: 0.9952 - val_loss: 0.3560 - val_wine_quality_loss: 0.3268 - val_wine_type_loss: 0.0280 - val_wine_quality_root_mean_squared_error: 0.5724 - val_wine_type_accuracy: 0.9949\n",
      "Epoch 85/180\n",
      "3155/3155 [==============================] - 0s 96us/sample - loss: 0.3099 - wine_quality_loss: 0.2881 - wine_type_loss: 0.0212 - wine_quality_root_mean_squared_error: 0.5372 - wine_type_accuracy: 0.9956 - val_loss: 0.3418 - val_wine_quality_loss: 0.3131 - val_wine_type_loss: 0.0280 - val_wine_quality_root_mean_squared_error: 0.5598 - val_wine_type_accuracy: 0.9949\n",
      "Epoch 86/180\n",
      "3155/3155 [==============================] - 0s 96us/sample - loss: 0.3089 - wine_quality_loss: 0.2879 - wine_type_loss: 0.0210 - wine_quality_root_mean_squared_error: 0.5365 - wine_type_accuracy: 0.9956 - val_loss: 0.3411 - val_wine_quality_loss: 0.3124 - val_wine_type_loss: 0.0279 - val_wine_quality_root_mean_squared_error: 0.5593 - val_wine_type_accuracy: 0.9949\n",
      "Epoch 87/180\n",
      "3155/3155 [==============================] - 0s 112us/sample - loss: 0.3074 - wine_quality_loss: 0.2865 - wine_type_loss: 0.0216 - wine_quality_root_mean_squared_error: 0.5351 - wine_type_accuracy: 0.9956 - val_loss: 0.3473 - val_wine_quality_loss: 0.3186 - val_wine_type_loss: 0.0280 - val_wine_quality_root_mean_squared_error: 0.5647 - val_wine_type_accuracy: 0.9949\n",
      "Epoch 88/180\n",
      "3155/3155 [==============================] - 0s 96us/sample - loss: 0.3080 - wine_quality_loss: 0.2867 - wine_type_loss: 0.0209 - wine_quality_root_mean_squared_error: 0.5358 - wine_type_accuracy: 0.9956 - val_loss: 0.3420 - val_wine_quality_loss: 0.3130 - val_wine_type_loss: 0.0278 - val_wine_quality_root_mean_squared_error: 0.5602 - val_wine_type_accuracy: 0.9949\n",
      "Epoch 89/180\n",
      "3155/3155 [==============================] - 0s 97us/sample - loss: 0.3067 - wine_quality_loss: 0.2860 - wine_type_loss: 0.0207 - wine_quality_root_mean_squared_error: 0.5347 - wine_type_accuracy: 0.9956 - val_loss: 0.3451 - val_wine_quality_loss: 0.3161 - val_wine_type_loss: 0.0278 - val_wine_quality_root_mean_squared_error: 0.5630 - val_wine_type_accuracy: 0.9949\n",
      "Epoch 90/180\n",
      "3155/3155 [==============================] - 0s 96us/sample - loss: 0.3063 - wine_quality_loss: 0.2851 - wine_type_loss: 0.0207 - wine_quality_root_mean_squared_error: 0.5344 - wine_type_accuracy: 0.9956 - val_loss: 0.3412 - val_wine_quality_loss: 0.3124 - val_wine_type_loss: 0.0278 - val_wine_quality_root_mean_squared_error: 0.5595 - val_wine_type_accuracy: 0.9949\n",
      "Epoch 91/180\n",
      "3155/3155 [==============================] - 0s 96us/sample - loss: 0.3050 - wine_quality_loss: 0.2839 - wine_type_loss: 0.0205 - wine_quality_root_mean_squared_error: 0.5333 - wine_type_accuracy: 0.9956 - val_loss: 0.3399 - val_wine_quality_loss: 0.3112 - val_wine_type_loss: 0.0277 - val_wine_quality_root_mean_squared_error: 0.5584 - val_wine_type_accuracy: 0.9949\n",
      "Epoch 92/180\n",
      "3155/3155 [==============================] - 0s 95us/sample - loss: 0.3047 - wine_quality_loss: 0.2839 - wine_type_loss: 0.0204 - wine_quality_root_mean_squared_error: 0.5331 - wine_type_accuracy: 0.9959 - val_loss: 0.3414 - val_wine_quality_loss: 0.3127 - val_wine_type_loss: 0.0279 - val_wine_quality_root_mean_squared_error: 0.5596 - val_wine_type_accuracy: 0.9949\n",
      "Epoch 93/180\n",
      "3155/3155 [==============================] - 0s 95us/sample - loss: 0.3040 - wine_quality_loss: 0.2833 - wine_type_loss: 0.0203 - wine_quality_root_mean_squared_error: 0.5325 - wine_type_accuracy: 0.9956 - val_loss: 0.3387 - val_wine_quality_loss: 0.3099 - val_wine_type_loss: 0.0279 - val_wine_quality_root_mean_squared_error: 0.5572 - val_wine_type_accuracy: 0.9949\n",
      "Epoch 94/180\n",
      "3155/3155 [==============================] - 0s 95us/sample - loss: 0.3029 - wine_quality_loss: 0.2826 - wine_type_loss: 0.0203 - wine_quality_root_mean_squared_error: 0.5316 - wine_type_accuracy: 0.9956 - val_loss: 0.3537 - val_wine_quality_loss: 0.3247 - val_wine_type_loss: 0.0278 - val_wine_quality_root_mean_squared_error: 0.5706 - val_wine_type_accuracy: 0.9949\n",
      "Epoch 95/180\n",
      "3155/3155 [==============================] - 0s 95us/sample - loss: 0.3027 - wine_quality_loss: 0.2825 - wine_type_loss: 0.0201 - wine_quality_root_mean_squared_error: 0.5315 - wine_type_accuracy: 0.9956 - val_loss: 0.3454 - val_wine_quality_loss: 0.3164 - val_wine_type_loss: 0.0277 - val_wine_quality_root_mean_squared_error: 0.5633 - val_wine_type_accuracy: 0.9949\n",
      "Epoch 96/180\n",
      "3155/3155 [==============================] - 0s 95us/sample - loss: 0.3024 - wine_quality_loss: 0.2823 - wine_type_loss: 0.0201 - wine_quality_root_mean_squared_error: 0.5313 - wine_type_accuracy: 0.9956 - val_loss: 0.3444 - val_wine_quality_loss: 0.3155 - val_wine_type_loss: 0.0277 - val_wine_quality_root_mean_squared_error: 0.5624 - val_wine_type_accuracy: 0.9949\n",
      "Epoch 97/180\n",
      "3155/3155 [==============================] - 0s 94us/sample - loss: 0.3013 - wine_quality_loss: 0.2813 - wine_type_loss: 0.0200 - wine_quality_root_mean_squared_error: 0.5303 - wine_type_accuracy: 0.9959 - val_loss: 0.3428 - val_wine_quality_loss: 0.3141 - val_wine_type_loss: 0.0275 - val_wine_quality_root_mean_squared_error: 0.5612 - val_wine_type_accuracy: 0.9949\n",
      "Epoch 98/180\n",
      "3155/3155 [==============================] - 0s 96us/sample - loss: 0.3007 - wine_quality_loss: 0.2805 - wine_type_loss: 0.0199 - wine_quality_root_mean_squared_error: 0.5298 - wine_type_accuracy: 0.9959 - val_loss: 0.3475 - val_wine_quality_loss: 0.3190 - val_wine_type_loss: 0.0276 - val_wine_quality_root_mean_squared_error: 0.5653 - val_wine_type_accuracy: 0.9949\n",
      "Epoch 99/180\n",
      "3155/3155 [==============================] - 0s 95us/sample - loss: 0.2995 - wine_quality_loss: 0.2799 - wine_type_loss: 0.0198 - wine_quality_root_mean_squared_error: 0.5288 - wine_type_accuracy: 0.9956 - val_loss: 0.3383 - val_wine_quality_loss: 0.3098 - val_wine_type_loss: 0.0274 - val_wine_quality_root_mean_squared_error: 0.5572 - val_wine_type_accuracy: 0.9949\n",
      "Epoch 100/180\n",
      "3155/3155 [==============================] - 0s 96us/sample - loss: 0.3000 - wine_quality_loss: 0.2800 - wine_type_loss: 0.0197 - wine_quality_root_mean_squared_error: 0.5293 - wine_type_accuracy: 0.9956 - val_loss: 0.3408 - val_wine_quality_loss: 0.3125 - val_wine_type_loss: 0.0274 - val_wine_quality_root_mean_squared_error: 0.5595 - val_wine_type_accuracy: 0.9949\n",
      "Epoch 101/180\n",
      "3155/3155 [==============================] - 0s 96us/sample - loss: 0.2984 - wine_quality_loss: 0.2783 - wine_type_loss: 0.0196 - wine_quality_root_mean_squared_error: 0.5280 - wine_type_accuracy: 0.9959 - val_loss: 0.3381 - val_wine_quality_loss: 0.3098 - val_wine_type_loss: 0.0275 - val_wine_quality_root_mean_squared_error: 0.5570 - val_wine_type_accuracy: 0.9949\n",
      "Epoch 102/180\n",
      "3155/3155 [==============================] - 0s 96us/sample - loss: 0.2990 - wine_quality_loss: 0.2801 - wine_type_loss: 0.0196 - wine_quality_root_mean_squared_error: 0.5286 - wine_type_accuracy: 0.9956 - val_loss: 0.3406 - val_wine_quality_loss: 0.3119 - val_wine_type_loss: 0.0274 - val_wine_quality_root_mean_squared_error: 0.5593 - val_wine_type_accuracy: 0.9949\n",
      "Epoch 103/180\n",
      "3155/3155 [==============================] - 0s 96us/sample - loss: 0.2985 - wine_quality_loss: 0.2791 - wine_type_loss: 0.0195 - wine_quality_root_mean_squared_error: 0.5283 - wine_type_accuracy: 0.9959 - val_loss: 0.3435 - val_wine_quality_loss: 0.3150 - val_wine_type_loss: 0.0276 - val_wine_quality_root_mean_squared_error: 0.5618 - val_wine_type_accuracy: 0.9949\n",
      "Epoch 104/180\n",
      "3155/3155 [==============================] - 0s 97us/sample - loss: 0.2962 - wine_quality_loss: 0.2765 - wine_type_loss: 0.0194 - wine_quality_root_mean_squared_error: 0.5261 - wine_type_accuracy: 0.9956 - val_loss: 0.3415 - val_wine_quality_loss: 0.3130 - val_wine_type_loss: 0.0274 - val_wine_quality_root_mean_squared_error: 0.5602 - val_wine_type_accuracy: 0.9949\n",
      "Epoch 105/180\n",
      "3155/3155 [==============================] - 0s 96us/sample - loss: 0.2975 - wine_quality_loss: 0.2782 - wine_type_loss: 0.0193 - wine_quality_root_mean_squared_error: 0.5274 - wine_type_accuracy: 0.9959 - val_loss: 0.3452 - val_wine_quality_loss: 0.3168 - val_wine_type_loss: 0.0274 - val_wine_quality_root_mean_squared_error: 0.5634 - val_wine_type_accuracy: 0.9949\n",
      "Epoch 106/180\n",
      "3155/3155 [==============================] - 0s 95us/sample - loss: 0.2961 - wine_quality_loss: 0.2773 - wine_type_loss: 0.0191 - wine_quality_root_mean_squared_error: 0.5262 - wine_type_accuracy: 0.9962 - val_loss: 0.3451 - val_wine_quality_loss: 0.3167 - val_wine_type_loss: 0.0274 - val_wine_quality_root_mean_squared_error: 0.5634 - val_wine_type_accuracy: 0.9949\n",
      "Epoch 107/180\n",
      "3155/3155 [==============================] - 0s 97us/sample - loss: 0.2958 - wine_quality_loss: 0.2765 - wine_type_loss: 0.0191 - wine_quality_root_mean_squared_error: 0.5260 - wine_type_accuracy: 0.9959 - val_loss: 0.3420 - val_wine_quality_loss: 0.3136 - val_wine_type_loss: 0.0274 - val_wine_quality_root_mean_squared_error: 0.5606 - val_wine_type_accuracy: 0.9949\n",
      "Epoch 108/180\n",
      "3155/3155 [==============================] - 0s 111us/sample - loss: 0.2955 - wine_quality_loss: 0.2765 - wine_type_loss: 0.0190 - wine_quality_root_mean_squared_error: 0.5257 - wine_type_accuracy: 0.9959 - val_loss: 0.3426 - val_wine_quality_loss: 0.3145 - val_wine_type_loss: 0.0273 - val_wine_quality_root_mean_squared_error: 0.5611 - val_wine_type_accuracy: 0.9949\n",
      "Epoch 109/180\n",
      "3155/3155 [==============================] - 0s 96us/sample - loss: 0.2952 - wine_quality_loss: 0.2760 - wine_type_loss: 0.0189 - wine_quality_root_mean_squared_error: 0.5255 - wine_type_accuracy: 0.9959 - val_loss: 0.3536 - val_wine_quality_loss: 0.3251 - val_wine_type_loss: 0.0273 - val_wine_quality_root_mean_squared_error: 0.5709 - val_wine_type_accuracy: 0.9949\n",
      "Epoch 110/180\n",
      "3155/3155 [==============================] - 0s 95us/sample - loss: 0.2945 - wine_quality_loss: 0.2756 - wine_type_loss: 0.0189 - wine_quality_root_mean_squared_error: 0.5250 - wine_type_accuracy: 0.9962 - val_loss: 0.3400 - val_wine_quality_loss: 0.3120 - val_wine_type_loss: 0.0274 - val_wine_quality_root_mean_squared_error: 0.5589 - val_wine_type_accuracy: 0.9949\n",
      "Epoch 111/180\n",
      "3155/3155 [==============================] - 0s 98us/sample - loss: 0.2929 - wine_quality_loss: 0.2737 - wine_type_loss: 0.0187 - wine_quality_root_mean_squared_error: 0.5235 - wine_type_accuracy: 0.9962 - val_loss: 0.3408 - val_wine_quality_loss: 0.3129 - val_wine_type_loss: 0.0271 - val_wine_quality_root_mean_squared_error: 0.5598 - val_wine_type_accuracy: 0.9949\n",
      "Epoch 112/180\n",
      "3155/3155 [==============================] - 0s 95us/sample - loss: 0.2927 - wine_quality_loss: 0.2740 - wine_type_loss: 0.0186 - wine_quality_root_mean_squared_error: 0.5235 - wine_type_accuracy: 0.9965 - val_loss: 0.3430 - val_wine_quality_loss: 0.3146 - val_wine_type_loss: 0.0274 - val_wine_quality_root_mean_squared_error: 0.5615 - val_wine_type_accuracy: 0.9949\n",
      "Epoch 113/180\n",
      "3155/3155 [==============================] - 0s 98us/sample - loss: 0.2928 - wine_quality_loss: 0.2744 - wine_type_loss: 0.0198 - wine_quality_root_mean_squared_error: 0.5235 - wine_type_accuracy: 0.9959 - val_loss: 0.3376 - val_wine_quality_loss: 0.3094 - val_wine_type_loss: 0.0271 - val_wine_quality_root_mean_squared_error: 0.5569 - val_wine_type_accuracy: 0.9949\n",
      "Epoch 114/180\n",
      "3155/3155 [==============================] - 0s 96us/sample - loss: 0.2911 - wine_quality_loss: 0.2720 - wine_type_loss: 0.0187 - wine_quality_root_mean_squared_error: 0.5220 - wine_type_accuracy: 0.9962 - val_loss: 0.3386 - val_wine_quality_loss: 0.3106 - val_wine_type_loss: 0.0271 - val_wine_quality_root_mean_squared_error: 0.5578 - val_wine_type_accuracy: 0.9949\n",
      "Epoch 115/180\n",
      "3155/3155 [==============================] - 0s 97us/sample - loss: 0.2917 - wine_quality_loss: 0.2733 - wine_type_loss: 0.0184 - wine_quality_root_mean_squared_error: 0.5226 - wine_type_accuracy: 0.9962 - val_loss: 0.3389 - val_wine_quality_loss: 0.3111 - val_wine_type_loss: 0.0271 - val_wine_quality_root_mean_squared_error: 0.5581 - val_wine_type_accuracy: 0.9949\n",
      "Epoch 116/180\n",
      "3155/3155 [==============================] - 0s 97us/sample - loss: 0.2912 - wine_quality_loss: 0.2726 - wine_type_loss: 0.0184 - wine_quality_root_mean_squared_error: 0.5223 - wine_type_accuracy: 0.9959 - val_loss: 0.3391 - val_wine_quality_loss: 0.3110 - val_wine_type_loss: 0.0272 - val_wine_quality_root_mean_squared_error: 0.5582 - val_wine_type_accuracy: 0.9949\n",
      "Epoch 117/180\n",
      "3155/3155 [==============================] - 0s 96us/sample - loss: 0.2908 - wine_quality_loss: 0.2723 - wine_type_loss: 0.0192 - wine_quality_root_mean_squared_error: 0.5220 - wine_type_accuracy: 0.9962 - val_loss: 0.3437 - val_wine_quality_loss: 0.3158 - val_wine_type_loss: 0.0272 - val_wine_quality_root_mean_squared_error: 0.5623 - val_wine_type_accuracy: 0.9949\n",
      "Epoch 118/180\n",
      "3155/3155 [==============================] - 0s 97us/sample - loss: 0.2906 - wine_quality_loss: 0.2722 - wine_type_loss: 0.0182 - wine_quality_root_mean_squared_error: 0.5219 - wine_type_accuracy: 0.9965 - val_loss: 0.3504 - val_wine_quality_loss: 0.3221 - val_wine_type_loss: 0.0272 - val_wine_quality_root_mean_squared_error: 0.5681 - val_wine_type_accuracy: 0.9949\n",
      "Epoch 119/180\n",
      "3155/3155 [==============================] - 0s 97us/sample - loss: 0.2899 - wine_quality_loss: 0.2716 - wine_type_loss: 0.0182 - wine_quality_root_mean_squared_error: 0.5212 - wine_type_accuracy: 0.9965 - val_loss: 0.3419 - val_wine_quality_loss: 0.3140 - val_wine_type_loss: 0.0272 - val_wine_quality_root_mean_squared_error: 0.5607 - val_wine_type_accuracy: 0.9949\n",
      "Epoch 120/180\n",
      "3155/3155 [==============================] - 0s 97us/sample - loss: 0.2882 - wine_quality_loss: 0.2707 - wine_type_loss: 0.0180 - wine_quality_root_mean_squared_error: 0.5198 - wine_type_accuracy: 0.9965 - val_loss: 0.3406 - val_wine_quality_loss: 0.3128 - val_wine_type_loss: 0.0272 - val_wine_quality_root_mean_squared_error: 0.5595 - val_wine_type_accuracy: 0.9949\n",
      "Epoch 121/180\n",
      "3155/3155 [==============================] - 0s 95us/sample - loss: 0.2893 - wine_quality_loss: 0.2717 - wine_type_loss: 0.0180 - wine_quality_root_mean_squared_error: 0.5209 - wine_type_accuracy: 0.9965 - val_loss: 0.3480 - val_wine_quality_loss: 0.3196 - val_wine_type_loss: 0.0272 - val_wine_quality_root_mean_squared_error: 0.5661 - val_wine_type_accuracy: 0.9949\n",
      "Epoch 122/180\n",
      "3155/3155 [==============================] - 0s 95us/sample - loss: 0.2877 - wine_quality_loss: 0.2694 - wine_type_loss: 0.0179 - wine_quality_root_mean_squared_error: 0.5194 - wine_type_accuracy: 0.9962 - val_loss: 0.3374 - val_wine_quality_loss: 0.3095 - val_wine_type_loss: 0.0270 - val_wine_quality_root_mean_squared_error: 0.5568 - val_wine_type_accuracy: 0.9949\n",
      "Epoch 123/180\n",
      "3155/3155 [==============================] - 0s 96us/sample - loss: 0.2869 - wine_quality_loss: 0.2687 - wine_type_loss: 0.0178 - wine_quality_root_mean_squared_error: 0.5187 - wine_type_accuracy: 0.9965 - val_loss: 0.3435 - val_wine_quality_loss: 0.3154 - val_wine_type_loss: 0.0272 - val_wine_quality_root_mean_squared_error: 0.5621 - val_wine_type_accuracy: 0.9949\n",
      "Epoch 124/180\n",
      "3155/3155 [==============================] - 0s 96us/sample - loss: 0.2870 - wine_quality_loss: 0.2692 - wine_type_loss: 0.0178 - wine_quality_root_mean_squared_error: 0.5189 - wine_type_accuracy: 0.9962 - val_loss: 0.3462 - val_wine_quality_loss: 0.3180 - val_wine_type_loss: 0.0271 - val_wine_quality_root_mean_squared_error: 0.5646 - val_wine_type_accuracy: 0.9949\n",
      "Epoch 125/180\n",
      "3155/3155 [==============================] - 0s 96us/sample - loss: 0.2867 - wine_quality_loss: 0.2692 - wine_type_loss: 0.0177 - wine_quality_root_mean_squared_error: 0.5187 - wine_type_accuracy: 0.9965 - val_loss: 0.3404 - val_wine_quality_loss: 0.3123 - val_wine_type_loss: 0.0270 - val_wine_quality_root_mean_squared_error: 0.5595 - val_wine_type_accuracy: 0.9949\n",
      "Epoch 126/180\n",
      "3155/3155 [==============================] - 0s 95us/sample - loss: 0.2854 - wine_quality_loss: 0.2676 - wine_type_loss: 0.0177 - wine_quality_root_mean_squared_error: 0.5173 - wine_type_accuracy: 0.9965 - val_loss: 0.3367 - val_wine_quality_loss: 0.3092 - val_wine_type_loss: 0.0270 - val_wine_quality_root_mean_squared_error: 0.5562 - val_wine_type_accuracy: 0.9949\n",
      "Epoch 127/180\n",
      "3155/3155 [==============================] - 0s 95us/sample - loss: 0.2860 - wine_quality_loss: 0.2684 - wine_type_loss: 0.0176 - wine_quality_root_mean_squared_error: 0.5181 - wine_type_accuracy: 0.9965 - val_loss: 0.3413 - val_wine_quality_loss: 0.3133 - val_wine_type_loss: 0.0270 - val_wine_quality_root_mean_squared_error: 0.5603 - val_wine_type_accuracy: 0.9949\n",
      "Epoch 128/180\n",
      "3155/3155 [==============================] - 0s 97us/sample - loss: 0.2858 - wine_quality_loss: 0.2677 - wine_type_loss: 0.0175 - wine_quality_root_mean_squared_error: 0.5179 - wine_type_accuracy: 0.9965 - val_loss: 0.3463 - val_wine_quality_loss: 0.3183 - val_wine_type_loss: 0.0269 - val_wine_quality_root_mean_squared_error: 0.5648 - val_wine_type_accuracy: 0.9949\n",
      "Epoch 129/180\n",
      "3155/3155 [==============================] - 0s 95us/sample - loss: 0.2855 - wine_quality_loss: 0.2681 - wine_type_loss: 0.0174 - wine_quality_root_mean_squared_error: 0.5177 - wine_type_accuracy: 0.9965 - val_loss: 0.3376 - val_wine_quality_loss: 0.3097 - val_wine_type_loss: 0.0270 - val_wine_quality_root_mean_squared_error: 0.5570 - val_wine_type_accuracy: 0.9949\n",
      "Epoch 130/180\n",
      "3155/3155 [==============================] - 0s 96us/sample - loss: 0.2836 - wine_quality_loss: 0.2658 - wine_type_loss: 0.0174 - wine_quality_root_mean_squared_error: 0.5159 - wine_type_accuracy: 0.9965 - val_loss: 0.3436 - val_wine_quality_loss: 0.3158 - val_wine_type_loss: 0.0270 - val_wine_quality_root_mean_squared_error: 0.5623 - val_wine_type_accuracy: 0.9949\n",
      "Epoch 131/180\n",
      "3155/3155 [==============================] - 0s 96us/sample - loss: 0.2842 - wine_quality_loss: 0.2669 - wine_type_loss: 0.0173 - wine_quality_root_mean_squared_error: 0.5166 - wine_type_accuracy: 0.9965 - val_loss: 0.3472 - val_wine_quality_loss: 0.3192 - val_wine_type_loss: 0.0269 - val_wine_quality_root_mean_squared_error: 0.5656 - val_wine_type_accuracy: 0.9949\n",
      "Epoch 132/180\n",
      "3155/3155 [==============================] - 0s 96us/sample - loss: 0.2838 - wine_quality_loss: 0.2666 - wine_type_loss: 0.0172 - wine_quality_root_mean_squared_error: 0.5163 - wine_type_accuracy: 0.9965 - val_loss: 0.3419 - val_wine_quality_loss: 0.3142 - val_wine_type_loss: 0.0270 - val_wine_quality_root_mean_squared_error: 0.5609 - val_wine_type_accuracy: 0.9949\n",
      "Epoch 133/180\n",
      "3155/3155 [==============================] - 0s 111us/sample - loss: 0.2826 - wine_quality_loss: 0.2655 - wine_type_loss: 0.0171 - wine_quality_root_mean_squared_error: 0.5153 - wine_type_accuracy: 0.9965 - val_loss: 0.3414 - val_wine_quality_loss: 0.3136 - val_wine_type_loss: 0.0270 - val_wine_quality_root_mean_squared_error: 0.5604 - val_wine_type_accuracy: 0.9949\n",
      "Epoch 134/180\n",
      "3155/3155 [==============================] - 0s 98us/sample - loss: 0.2835 - wine_quality_loss: 0.2662 - wine_type_loss: 0.0170 - wine_quality_root_mean_squared_error: 0.5161 - wine_type_accuracy: 0.9965 - val_loss: 0.3415 - val_wine_quality_loss: 0.3136 - val_wine_type_loss: 0.0271 - val_wine_quality_root_mean_squared_error: 0.5604 - val_wine_type_accuracy: 0.9949\n",
      "Epoch 135/180\n",
      "3155/3155 [==============================] - 0s 98us/sample - loss: 0.2829 - wine_quality_loss: 0.2657 - wine_type_loss: 0.0170 - wine_quality_root_mean_squared_error: 0.5156 - wine_type_accuracy: 0.9965 - val_loss: 0.3381 - val_wine_quality_loss: 0.3104 - val_wine_type_loss: 0.0270 - val_wine_quality_root_mean_squared_error: 0.5575 - val_wine_type_accuracy: 0.9949\n",
      "Epoch 136/180\n",
      "3155/3155 [==============================] - 0s 96us/sample - loss: 0.2819 - wine_quality_loss: 0.2643 - wine_type_loss: 0.0170 - wine_quality_root_mean_squared_error: 0.5147 - wine_type_accuracy: 0.9965 - val_loss: 0.3371 - val_wine_quality_loss: 0.3092 - val_wine_type_loss: 0.0269 - val_wine_quality_root_mean_squared_error: 0.5566 - val_wine_type_accuracy: 0.9949\n",
      "Epoch 137/180\n",
      "3155/3155 [==============================] - 0s 97us/sample - loss: 0.2818 - wine_quality_loss: 0.2651 - wine_type_loss: 0.0168 - wine_quality_root_mean_squared_error: 0.5147 - wine_type_accuracy: 0.9965 - val_loss: 0.3373 - val_wine_quality_loss: 0.3096 - val_wine_type_loss: 0.0268 - val_wine_quality_root_mean_squared_error: 0.5570 - val_wine_type_accuracy: 0.9949\n",
      "Epoch 138/180\n",
      "3155/3155 [==============================] - 0s 98us/sample - loss: 0.2814 - wine_quality_loss: 0.2640 - wine_type_loss: 0.0168 - wine_quality_root_mean_squared_error: 0.5143 - wine_type_accuracy: 0.9965 - val_loss: 0.3453 - val_wine_quality_loss: 0.3173 - val_wine_type_loss: 0.0269 - val_wine_quality_root_mean_squared_error: 0.5640 - val_wine_type_accuracy: 0.9949\n",
      "Epoch 139/180\n",
      "3155/3155 [==============================] - 0s 95us/sample - loss: 0.2805 - wine_quality_loss: 0.2638 - wine_type_loss: 0.0168 - wine_quality_root_mean_squared_error: 0.5135 - wine_type_accuracy: 0.9965 - val_loss: 0.3441 - val_wine_quality_loss: 0.3165 - val_wine_type_loss: 0.0269 - val_wine_quality_root_mean_squared_error: 0.5629 - val_wine_type_accuracy: 0.9937\n",
      "Epoch 140/180\n",
      "3155/3155 [==============================] - 0s 116us/sample - loss: 0.2801 - wine_quality_loss: 0.2635 - wine_type_loss: 0.0167 - wine_quality_root_mean_squared_error: 0.5132 - wine_type_accuracy: 0.9965 - val_loss: 0.3431 - val_wine_quality_loss: 0.3155 - val_wine_type_loss: 0.0267 - val_wine_quality_root_mean_squared_error: 0.5622 - val_wine_type_accuracy: 0.9949\n",
      "Epoch 141/180\n",
      "3155/3155 [==============================] - 0s 95us/sample - loss: 0.2787 - wine_quality_loss: 0.2617 - wine_type_loss: 0.0167 - wine_quality_root_mean_squared_error: 0.5119 - wine_type_accuracy: 0.9965 - val_loss: 0.3421 - val_wine_quality_loss: 0.3144 - val_wine_type_loss: 0.0269 - val_wine_quality_root_mean_squared_error: 0.5611 - val_wine_type_accuracy: 0.9949\n",
      "Epoch 142/180\n",
      "3155/3155 [==============================] - 0s 98us/sample - loss: 0.2796 - wine_quality_loss: 0.2639 - wine_type_loss: 0.0165 - wine_quality_root_mean_squared_error: 0.5128 - wine_type_accuracy: 0.9965 - val_loss: 0.3361 - val_wine_quality_loss: 0.3082 - val_wine_type_loss: 0.0270 - val_wine_quality_root_mean_squared_error: 0.5556 - val_wine_type_accuracy: 0.9937\n",
      "Epoch 143/180\n",
      "3155/3155 [==============================] - 0s 96us/sample - loss: 0.2780 - wine_quality_loss: 0.2617 - wine_type_loss: 0.0165 - wine_quality_root_mean_squared_error: 0.5113 - wine_type_accuracy: 0.9965 - val_loss: 0.3457 - val_wine_quality_loss: 0.3176 - val_wine_type_loss: 0.0270 - val_wine_quality_root_mean_squared_error: 0.5642 - val_wine_type_accuracy: 0.9937\n",
      "Epoch 144/180\n",
      "3155/3155 [==============================] - 0s 97us/sample - loss: 0.2788 - wine_quality_loss: 0.2621 - wine_type_loss: 0.0165 - wine_quality_root_mean_squared_error: 0.5121 - wine_type_accuracy: 0.9965 - val_loss: 0.3501 - val_wine_quality_loss: 0.3221 - val_wine_type_loss: 0.0271 - val_wine_quality_root_mean_squared_error: 0.5680 - val_wine_type_accuracy: 0.9937\n",
      "Epoch 145/180\n",
      "3155/3155 [==============================] - 0s 97us/sample - loss: 0.2785 - wine_quality_loss: 0.2622 - wine_type_loss: 0.0166 - wine_quality_root_mean_squared_error: 0.5119 - wine_type_accuracy: 0.9965 - val_loss: 0.3468 - val_wine_quality_loss: 0.3186 - val_wine_type_loss: 0.0270 - val_wine_quality_root_mean_squared_error: 0.5652 - val_wine_type_accuracy: 0.9937\n",
      "Epoch 146/180\n",
      "3155/3155 [==============================] - 0s 96us/sample - loss: 0.2770 - wine_quality_loss: 0.2600 - wine_type_loss: 0.0163 - wine_quality_root_mean_squared_error: 0.5105 - wine_type_accuracy: 0.9965 - val_loss: 0.3384 - val_wine_quality_loss: 0.3110 - val_wine_type_loss: 0.0269 - val_wine_quality_root_mean_squared_error: 0.5578 - val_wine_type_accuracy: 0.9937\n",
      "Epoch 147/180\n",
      "3155/3155 [==============================] - 0s 114us/sample - loss: 0.2785 - wine_quality_loss: 0.2622 - wine_type_loss: 0.0162 - wine_quality_root_mean_squared_error: 0.5120 - wine_type_accuracy: 0.9965 - val_loss: 0.3421 - val_wine_quality_loss: 0.3145 - val_wine_type_loss: 0.0269 - val_wine_quality_root_mean_squared_error: 0.5612 - val_wine_type_accuracy: 0.9937\n",
      "Epoch 148/180\n",
      "3155/3155 [==============================] - 0s 97us/sample - loss: 0.2780 - wine_quality_loss: 0.2614 - wine_type_loss: 0.0179 - wine_quality_root_mean_squared_error: 0.5116 - wine_type_accuracy: 0.9965 - val_loss: 0.3386 - val_wine_quality_loss: 0.3112 - val_wine_type_loss: 0.0268 - val_wine_quality_root_mean_squared_error: 0.5581 - val_wine_type_accuracy: 0.9937\n",
      "Epoch 149/180\n",
      "3155/3155 [==============================] - 0s 95us/sample - loss: 0.2764 - wine_quality_loss: 0.2606 - wine_type_loss: 0.0162 - wine_quality_root_mean_squared_error: 0.5101 - wine_type_accuracy: 0.9965 - val_loss: 0.3374 - val_wine_quality_loss: 0.3097 - val_wine_type_loss: 0.0268 - val_wine_quality_root_mean_squared_error: 0.5570 - val_wine_type_accuracy: 0.9937\n",
      "Epoch 150/180\n",
      "3155/3155 [==============================] - 0s 95us/sample - loss: 0.2759 - wine_quality_loss: 0.2598 - wine_type_loss: 0.0161 - wine_quality_root_mean_squared_error: 0.5097 - wine_type_accuracy: 0.9965 - val_loss: 0.3360 - val_wine_quality_loss: 0.3082 - val_wine_type_loss: 0.0269 - val_wine_quality_root_mean_squared_error: 0.5557 - val_wine_type_accuracy: 0.9937\n",
      "Epoch 151/180\n",
      "3155/3155 [==============================] - 0s 97us/sample - loss: 0.2757 - wine_quality_loss: 0.2594 - wine_type_loss: 0.0161 - wine_quality_root_mean_squared_error: 0.5095 - wine_type_accuracy: 0.9965 - val_loss: 0.3448 - val_wine_quality_loss: 0.3169 - val_wine_type_loss: 0.0268 - val_wine_quality_root_mean_squared_error: 0.5636 - val_wine_type_accuracy: 0.9937\n",
      "Epoch 152/180\n",
      "3155/3155 [==============================] - 0s 95us/sample - loss: 0.2748 - wine_quality_loss: 0.2584 - wine_type_loss: 0.0160 - wine_quality_root_mean_squared_error: 0.5087 - wine_type_accuracy: 0.9965 - val_loss: 0.3467 - val_wine_quality_loss: 0.3188 - val_wine_type_loss: 0.0269 - val_wine_quality_root_mean_squared_error: 0.5652 - val_wine_type_accuracy: 0.9937\n",
      "Epoch 153/180\n",
      "3155/3155 [==============================] - 0s 96us/sample - loss: 0.2760 - wine_quality_loss: 0.2604 - wine_type_loss: 0.0159 - wine_quality_root_mean_squared_error: 0.5100 - wine_type_accuracy: 0.9965 - val_loss: 0.3365 - val_wine_quality_loss: 0.3086 - val_wine_type_loss: 0.0269 - val_wine_quality_root_mean_squared_error: 0.5561 - val_wine_type_accuracy: 0.9937\n",
      "Epoch 154/180\n",
      "3155/3155 [==============================] - 0s 96us/sample - loss: 0.2745 - wine_quality_loss: 0.2580 - wine_type_loss: 0.0169 - wine_quality_root_mean_squared_error: 0.5085 - wine_type_accuracy: 0.9965 - val_loss: 0.3422 - val_wine_quality_loss: 0.3143 - val_wine_type_loss: 0.0269 - val_wine_quality_root_mean_squared_error: 0.5612 - val_wine_type_accuracy: 0.9937\n",
      "Epoch 155/180\n",
      "3155/3155 [==============================] - 0s 96us/sample - loss: 0.2747 - wine_quality_loss: 0.2591 - wine_type_loss: 0.0157 - wine_quality_root_mean_squared_error: 0.5088 - wine_type_accuracy: 0.9965 - val_loss: 0.3398 - val_wine_quality_loss: 0.3119 - val_wine_type_loss: 0.0268 - val_wine_quality_root_mean_squared_error: 0.5591 - val_wine_type_accuracy: 0.9937\n",
      "Epoch 156/180\n",
      "3155/3155 [==============================] - 0s 96us/sample - loss: 0.2740 - wine_quality_loss: 0.2580 - wine_type_loss: 0.0157 - wine_quality_root_mean_squared_error: 0.5082 - wine_type_accuracy: 0.9965 - val_loss: 0.3471 - val_wine_quality_loss: 0.3192 - val_wine_type_loss: 0.0269 - val_wine_quality_root_mean_squared_error: 0.5655 - val_wine_type_accuracy: 0.9937\n",
      "Epoch 157/180\n",
      "3155/3155 [==============================] - 0s 96us/sample - loss: 0.2730 - wine_quality_loss: 0.2576 - wine_type_loss: 0.0157 - wine_quality_root_mean_squared_error: 0.5072 - wine_type_accuracy: 0.9965 - val_loss: 0.3525 - val_wine_quality_loss: 0.3245 - val_wine_type_loss: 0.0270 - val_wine_quality_root_mean_squared_error: 0.5702 - val_wine_type_accuracy: 0.9937\n",
      "Epoch 158/180\n",
      "3155/3155 [==============================] - 0s 96us/sample - loss: 0.2723 - wine_quality_loss: 0.2567 - wine_type_loss: 0.0156 - wine_quality_root_mean_squared_error: 0.5066 - wine_type_accuracy: 0.9965 - val_loss: 0.3434 - val_wine_quality_loss: 0.3156 - val_wine_type_loss: 0.0269 - val_wine_quality_root_mean_squared_error: 0.5623 - val_wine_type_accuracy: 0.9937\n",
      "Epoch 159/180\n",
      "3155/3155 [==============================] - 0s 97us/sample - loss: 0.2737 - wine_quality_loss: 0.2582 - wine_type_loss: 0.0155 - wine_quality_root_mean_squared_error: 0.5081 - wine_type_accuracy: 0.9965 - val_loss: 0.3401 - val_wine_quality_loss: 0.3124 - val_wine_type_loss: 0.0271 - val_wine_quality_root_mean_squared_error: 0.5592 - val_wine_type_accuracy: 0.9937\n",
      "Epoch 160/180\n",
      "3155/3155 [==============================] - 0s 96us/sample - loss: 0.2729 - wine_quality_loss: 0.2572 - wine_type_loss: 0.0155 - wine_quality_root_mean_squared_error: 0.5072 - wine_type_accuracy: 0.9965 - val_loss: 0.3375 - val_wine_quality_loss: 0.3095 - val_wine_type_loss: 0.0270 - val_wine_quality_root_mean_squared_error: 0.5568 - val_wine_type_accuracy: 0.9937\n",
      "Epoch 161/180\n",
      "3155/3155 [==============================] - 0s 116us/sample - loss: 0.2712 - wine_quality_loss: 0.2557 - wine_type_loss: 0.0155 - wine_quality_root_mean_squared_error: 0.5057 - wine_type_accuracy: 0.9965 - val_loss: 0.3424 - val_wine_quality_loss: 0.3146 - val_wine_type_loss: 0.0270 - val_wine_quality_root_mean_squared_error: 0.5613 - val_wine_type_accuracy: 0.9937\n",
      "Epoch 162/180\n",
      "3155/3155 [==============================] - 0s 97us/sample - loss: 0.2709 - wine_quality_loss: 0.2555 - wine_type_loss: 0.0155 - wine_quality_root_mean_squared_error: 0.5054 - wine_type_accuracy: 0.9965 - val_loss: 0.3466 - val_wine_quality_loss: 0.3186 - val_wine_type_loss: 0.0270 - val_wine_quality_root_mean_squared_error: 0.5650 - val_wine_type_accuracy: 0.9937\n",
      "Epoch 163/180\n",
      "3155/3155 [==============================] - 0s 97us/sample - loss: 0.2719 - wine_quality_loss: 0.2568 - wine_type_loss: 0.0154 - wine_quality_root_mean_squared_error: 0.5064 - wine_type_accuracy: 0.9965 - val_loss: 0.3501 - val_wine_quality_loss: 0.3219 - val_wine_type_loss: 0.0271 - val_wine_quality_root_mean_squared_error: 0.5679 - val_wine_type_accuracy: 0.9937\n",
      "Epoch 164/180\n",
      "3155/3155 [==============================] - 0s 97us/sample - loss: 0.2703 - wine_quality_loss: 0.2547 - wine_type_loss: 0.0154 - wine_quality_root_mean_squared_error: 0.5048 - wine_type_accuracy: 0.9965 - val_loss: 0.3409 - val_wine_quality_loss: 0.3130 - val_wine_type_loss: 0.0271 - val_wine_quality_root_mean_squared_error: 0.5599 - val_wine_type_accuracy: 0.9937\n",
      "Epoch 165/180\n",
      "3155/3155 [==============================] - 0s 96us/sample - loss: 0.2707 - wine_quality_loss: 0.2553 - wine_type_loss: 0.0153 - wine_quality_root_mean_squared_error: 0.5054 - wine_type_accuracy: 0.9965 - val_loss: 0.3389 - val_wine_quality_loss: 0.3113 - val_wine_type_loss: 0.0270 - val_wine_quality_root_mean_squared_error: 0.5582 - val_wine_type_accuracy: 0.9937\n",
      "Epoch 166/180\n",
      "3155/3155 [==============================] - 0s 97us/sample - loss: 0.2702 - wine_quality_loss: 0.2553 - wine_type_loss: 0.0152 - wine_quality_root_mean_squared_error: 0.5049 - wine_type_accuracy: 0.9965 - val_loss: 0.3386 - val_wine_quality_loss: 0.3106 - val_wine_type_loss: 0.0271 - val_wine_quality_root_mean_squared_error: 0.5578 - val_wine_type_accuracy: 0.9937\n",
      "Epoch 167/180\n",
      "3155/3155 [==============================] - 0s 95us/sample - loss: 0.2693 - wine_quality_loss: 0.2542 - wine_type_loss: 0.0152 - wine_quality_root_mean_squared_error: 0.5040 - wine_type_accuracy: 0.9965 - val_loss: 0.3438 - val_wine_quality_loss: 0.3158 - val_wine_type_loss: 0.0271 - val_wine_quality_root_mean_squared_error: 0.5624 - val_wine_type_accuracy: 0.9937\n",
      "Epoch 168/180\n",
      "3155/3155 [==============================] - 0s 96us/sample - loss: 0.2705 - wine_quality_loss: 0.2550 - wine_type_loss: 0.0152 - wine_quality_root_mean_squared_error: 0.5052 - wine_type_accuracy: 0.9965 - val_loss: 0.3389 - val_wine_quality_loss: 0.3111 - val_wine_type_loss: 0.0271 - val_wine_quality_root_mean_squared_error: 0.5581 - val_wine_type_accuracy: 0.9937\n",
      "Epoch 169/180\n",
      "3155/3155 [==============================] - 0s 112us/sample - loss: 0.2687 - wine_quality_loss: 0.2538 - wine_type_loss: 0.0151 - wine_quality_root_mean_squared_error: 0.5036 - wine_type_accuracy: 0.9965 - val_loss: 0.3423 - val_wine_quality_loss: 0.3144 - val_wine_type_loss: 0.0271 - val_wine_quality_root_mean_squared_error: 0.5611 - val_wine_type_accuracy: 0.9937\n",
      "Epoch 170/180\n",
      "3155/3155 [==============================] - 0s 96us/sample - loss: 0.2685 - wine_quality_loss: 0.2535 - wine_type_loss: 0.0160 - wine_quality_root_mean_squared_error: 0.5034 - wine_type_accuracy: 0.9965 - val_loss: 0.3392 - val_wine_quality_loss: 0.3111 - val_wine_type_loss: 0.0271 - val_wine_quality_root_mean_squared_error: 0.5583 - val_wine_type_accuracy: 0.9937\n",
      "Epoch 171/180\n",
      "3155/3155 [==============================] - 0s 99us/sample - loss: 0.2680 - wine_quality_loss: 0.2529 - wine_type_loss: 0.0149 - wine_quality_root_mean_squared_error: 0.5030 - wine_type_accuracy: 0.9965 - val_loss: 0.3443 - val_wine_quality_loss: 0.3162 - val_wine_type_loss: 0.0271 - val_wine_quality_root_mean_squared_error: 0.5629 - val_wine_type_accuracy: 0.9937\n",
      "Epoch 172/180\n",
      "3155/3155 [==============================] - 0s 96us/sample - loss: 0.2686 - wine_quality_loss: 0.2534 - wine_type_loss: 0.0149 - wine_quality_root_mean_squared_error: 0.5036 - wine_type_accuracy: 0.9965 - val_loss: 0.3420 - val_wine_quality_loss: 0.3139 - val_wine_type_loss: 0.0271 - val_wine_quality_root_mean_squared_error: 0.5608 - val_wine_type_accuracy: 0.9937\n",
      "Epoch 173/180\n",
      "3155/3155 [==============================] - 0s 96us/sample - loss: 0.2678 - wine_quality_loss: 0.2525 - wine_type_loss: 0.0148 - wine_quality_root_mean_squared_error: 0.5029 - wine_type_accuracy: 0.9965 - val_loss: 0.3468 - val_wine_quality_loss: 0.3185 - val_wine_type_loss: 0.0271 - val_wine_quality_root_mean_squared_error: 0.5651 - val_wine_type_accuracy: 0.9937\n",
      "Epoch 174/180\n",
      "3155/3155 [==============================] - 0s 96us/sample - loss: 0.2675 - wine_quality_loss: 0.2527 - wine_type_loss: 0.0148 - wine_quality_root_mean_squared_error: 0.5027 - wine_type_accuracy: 0.9965 - val_loss: 0.3523 - val_wine_quality_loss: 0.3241 - val_wine_type_loss: 0.0272 - val_wine_quality_root_mean_squared_error: 0.5699 - val_wine_type_accuracy: 0.9937\n",
      "Epoch 175/180\n",
      "3155/3155 [==============================] - 0s 96us/sample - loss: 0.2669 - wine_quality_loss: 0.2519 - wine_type_loss: 0.0147 - wine_quality_root_mean_squared_error: 0.5022 - wine_type_accuracy: 0.9965 - val_loss: 0.3381 - val_wine_quality_loss: 0.3101 - val_wine_type_loss: 0.0271 - val_wine_quality_root_mean_squared_error: 0.5573 - val_wine_type_accuracy: 0.9937\n",
      "Epoch 176/180\n",
      "3155/3155 [==============================] - 0s 98us/sample - loss: 0.2663 - wine_quality_loss: 0.2515 - wine_type_loss: 0.0146 - wine_quality_root_mean_squared_error: 0.5017 - wine_type_accuracy: 0.9965 - val_loss: 0.3441 - val_wine_quality_loss: 0.3159 - val_wine_type_loss: 0.0272 - val_wine_quality_root_mean_squared_error: 0.5626 - val_wine_type_accuracy: 0.9937\n",
      "Epoch 177/180\n",
      "3155/3155 [==============================] - 0s 96us/sample - loss: 0.2660 - wine_quality_loss: 0.2513 - wine_type_loss: 0.0146 - wine_quality_root_mean_squared_error: 0.5014 - wine_type_accuracy: 0.9965 - val_loss: 0.3421 - val_wine_quality_loss: 0.3143 - val_wine_type_loss: 0.0271 - val_wine_quality_root_mean_squared_error: 0.5609 - val_wine_type_accuracy: 0.9937\n",
      "Epoch 178/180\n",
      "3155/3155 [==============================] - 0s 96us/sample - loss: 0.2656 - wine_quality_loss: 0.2504 - wine_type_loss: 0.0146 - wine_quality_root_mean_squared_error: 0.5010 - wine_type_accuracy: 0.9965 - val_loss: 0.3380 - val_wine_quality_loss: 0.3101 - val_wine_type_loss: 0.0271 - val_wine_quality_root_mean_squared_error: 0.5573 - val_wine_type_accuracy: 0.9937\n",
      "Epoch 179/180\n",
      "3155/3155 [==============================] - 0s 95us/sample - loss: 0.2655 - wine_quality_loss: 0.2511 - wine_type_loss: 0.0145 - wine_quality_root_mean_squared_error: 0.5009 - wine_type_accuracy: 0.9965 - val_loss: 0.3471 - val_wine_quality_loss: 0.3190 - val_wine_type_loss: 0.0271 - val_wine_quality_root_mean_squared_error: 0.5654 - val_wine_type_accuracy: 0.9937\n",
      "Epoch 180/180\n",
      "3155/3155 [==============================] - 0s 96us/sample - loss: 0.2650 - wine_quality_loss: 0.2504 - wine_type_loss: 0.0144 - wine_quality_root_mean_squared_error: 0.5005 - wine_type_accuracy: 0.9965 - val_loss: 0.3445 - val_wine_quality_loss: 0.3164 - val_wine_type_loss: 0.0271 - val_wine_quality_root_mean_squared_error: 0.5631 - val_wine_type_accuracy: 0.9937\n"
     ]
    }
   ],
   "source": [
    "# Please uncomment all lines in this cell and replace those marked with `# YOUR CODE HERE`.\n",
    "# You can select all lines in this code cell with Ctrl+A (Windows/Linux) or Cmd+A (Mac), then press Ctrl+/ (Windows/Linux) or Cmd+/ (Mac) to uncomment.\n",
    "\n",
    "\n",
    "\n",
    "history = model.fit(norm_train_X, train_Y,\n",
    "                    epochs = 180, validation_data=(norm_val_X, val_Y))"
   ]
  },
  {
   "cell_type": "code",
   "execution_count": 34,
   "metadata": {
    "deletable": false,
    "editable": false,
    "nbgrader": {
     "cell_type": "code",
     "checksum": "fadad8896eda9c8c2115970724b15508",
     "grade": true,
     "grade_id": "cell-eb4d5b41bef8f0ab",
     "locked": true,
     "points": 1,
     "schema_version": 3,
     "solution": false,
     "task": false
    }
   },
   "outputs": [
    {
     "name": "stdout",
     "output_type": "stream",
     "text": [
      "\u001b[92m All public tests passed\n"
     ]
    }
   ],
   "source": [
    "utils.test_history(history)"
   ]
  },
  {
   "cell_type": "code",
   "execution_count": 35,
   "metadata": {
    "colab": {},
    "colab_type": "code",
    "id": "CubF2J2gSf6q"
   },
   "outputs": [
    {
     "name": "stdout",
     "output_type": "stream",
     "text": [
      "789/789 [==============================] - 0s 21us/sample - loss: 0.3445 - wine_quality_loss: 0.3164 - wine_type_loss: 0.0271 - wine_quality_root_mean_squared_error: 0.5631 - wine_type_accuracy: 0.9937\n",
      "\n",
      "loss: 0.34452512369258625\n",
      "wine_quality_loss: 0.3164145350456238\n",
      "wine_type_loss: 0.0270864088088274\n",
      "wine_quality_rmse: 0.5631034970283508\n",
      "wine_type_accuracy: 0.9936628937721252\n"
     ]
    }
   ],
   "source": [
    "# Gather the training metrics\n",
    "loss, wine_quality_loss, wine_type_loss, wine_quality_rmse, wine_type_accuracy = model.evaluate(x=norm_val_X, y=val_Y)\n",
    "\n",
    "print()\n",
    "print(f'loss: {loss}')\n",
    "print(f'wine_quality_loss: {wine_quality_loss}')\n",
    "print(f'wine_type_loss: {wine_type_loss}')\n",
    "print(f'wine_quality_rmse: {wine_quality_rmse}')\n",
    "print(f'wine_type_accuracy: {wine_type_accuracy}')\n",
    "\n",
    "# EXPECTED VALUES\n",
    "# ~ 0.30 - 0.38\n",
    "# ~ 0.30 - 0.38\n",
    "# ~ 0.018 - 0.030\n",
    "# ~ 0.50 - 0.62\n",
    "# ~ 0.97 - 1.0\n",
    "\n",
    "# Example:\n",
    "#0.3657050132751465\n",
    "#0.3463745415210724\n",
    "#0.019330406561493874\n",
    "#0.5885359048843384\n",
    "#0.9974651336669922"
   ]
  },
  {
   "cell_type": "markdown",
   "metadata": {
    "colab_type": "text",
    "id": "gPtTGAP4usnm"
   },
   "source": [
    "## Analyze the Model Performance\n",
    "\n",
    "Note that the model has two outputs. The output at index 0 is quality and index 1 is wine type\n",
    "\n",
    "So, round the quality predictions to the nearest integer."
   ]
  },
  {
   "cell_type": "code",
   "execution_count": 36,
   "metadata": {
    "colab": {},
    "colab_type": "code",
    "id": "tBq9PEeAaW-Y"
   },
   "outputs": [],
   "source": [
    "predictions = model.predict(norm_test_X)\n",
    "quality_pred = predictions[0]\n",
    "type_pred = predictions[1]"
   ]
  },
  {
   "cell_type": "code",
   "execution_count": 37,
   "metadata": {
    "colab": {},
    "colab_type": "code",
    "id": "YLhgTR4xTIxj"
   },
   "outputs": [
    {
     "name": "stdout",
     "output_type": "stream",
     "text": [
      "[5.544534]\n"
     ]
    }
   ],
   "source": [
    "print(quality_pred[0])\n",
    "\n",
    "# EXPECTED OUTPUT\n",
    "# 5.6 - 6.0"
   ]
  },
  {
   "cell_type": "code",
   "execution_count": 38,
   "metadata": {
    "colab": {},
    "colab_type": "code",
    "id": "MPi-eYfGTUXi"
   },
   "outputs": [
    {
     "name": "stdout",
     "output_type": "stream",
     "text": [
      "[0.00012672]\n",
      "[0.99999917]\n"
     ]
    }
   ],
   "source": [
    "print(type_pred[0])\n",
    "print(type_pred[944])\n",
    "\n",
    "# EXPECTED OUTPUT\n",
    "# A number close to zero\n",
    "# A number close to or equal to 1"
   ]
  },
  {
   "cell_type": "markdown",
   "metadata": {
    "colab_type": "text",
    "id": "Kohk-9C6vt_s"
   },
   "source": [
    "### Plot Utilities\n",
    "\n",
    "We define a few utilities to visualize the model performance."
   ]
  },
  {
   "cell_type": "code",
   "execution_count": 39,
   "metadata": {
    "colab": {},
    "colab_type": "code",
    "id": "62gEOFUhn6aQ"
   },
   "outputs": [],
   "source": [
    "def plot_metrics(metric_name, title, ylim=5):\n",
    "    plt.title(title)\n",
    "    plt.ylim(0,ylim)\n",
    "    plt.plot(history.history[metric_name],color='blue',label=metric_name)\n",
    "    plt.plot(history.history['val_' + metric_name],color='green',label='val_' + metric_name)\n"
   ]
  },
  {
   "cell_type": "code",
   "execution_count": 40,
   "metadata": {
    "colab": {},
    "colab_type": "code",
    "id": "6rfgSx7uz5dj"
   },
   "outputs": [],
   "source": [
    "def plot_confusion_matrix(y_true, y_pred, title='', labels=[0,1]):\n",
    "    cm = confusion_matrix(y_true, y_pred)\n",
    "    fig = plt.figure()\n",
    "    ax = fig.add_subplot(111)\n",
    "    cax = ax.matshow(cm)\n",
    "    plt.title('Confusion matrix of the classifier')\n",
    "    fig.colorbar(cax)\n",
    "    ax.set_xticklabels([''] + labels)\n",
    "    ax.set_yticklabels([''] + labels)\n",
    "    plt.xlabel('Predicted')\n",
    "    plt.ylabel('True')\n",
    "    fmt = 'd'\n",
    "    thresh = cm.max() / 2.\n",
    "    for i, j in itertools.product(range(cm.shape[0]), range(cm.shape[1])):\n",
    "          plt.text(j, i, format(cm[i, j], fmt),\n",
    "                  horizontalalignment=\"center\",\n",
    "                  color=\"black\" if cm[i, j] > thresh else \"white\")\n",
    "    plt.show()"
   ]
  },
  {
   "cell_type": "code",
   "execution_count": 41,
   "metadata": {
    "colab": {},
    "colab_type": "code",
    "id": "dfVLIqi017Vf"
   },
   "outputs": [],
   "source": [
    "def plot_diff(y_true, y_pred, title = '' ):\n",
    "    plt.scatter(y_true, y_pred)\n",
    "    plt.title(title)\n",
    "    plt.xlabel('True Values')\n",
    "    plt.ylabel('Predictions')\n",
    "    plt.axis('equal')\n",
    "    plt.axis('square')\n",
    "    plt.plot([-100, 100], [-100, 100])\n",
    "    return plt"
   ]
  },
  {
   "cell_type": "markdown",
   "metadata": {
    "colab_type": "text",
    "id": "8sd1jdFbwE0I"
   },
   "source": [
    "### Plots for Metrics"
   ]
  },
  {
   "cell_type": "code",
   "execution_count": 42,
   "metadata": {
    "colab": {},
    "colab_type": "code",
    "id": "f3MwZ5J1pOfj"
   },
   "outputs": [
    {
     "data": {
      "image/png": "[encoded data removed]",
      "text/plain": [
       "<Figure size 432x288 with 1 Axes>"
      ]
     },
     "metadata": {
      "needs_background": "light"
     },
     "output_type": "display_data"
    }
   ],
   "source": [
    "plot_metrics('wine_quality_root_mean_squared_error', 'RMSE', ylim=2)"
   ]
  },
  {
   "cell_type": "code",
   "execution_count": 43,
   "metadata": {
    "colab": {},
    "colab_type": "code",
    "id": "QIAxEezCppnd"
   },
   "outputs": [
    {
     "data": {
      "image/png": "[encoded data removed]",
      "text/plain": [
       "<Figure size 432x288 with 1 Axes>"
      ]
     },
     "metadata": {
      "needs_background": "light"
     },
     "output_type": "display_data"
    }
   ],
   "source": [
    "plot_metrics('wine_type_loss', 'Wine Type Loss', ylim=0.2)"
   ]
  },
  {
   "cell_type": "markdown",
   "metadata": {
    "colab_type": "text",
    "id": "uYV9AOAMwI9p"
   },
   "source": [
    "### Plots for Confusion Matrix\n",
    "\n",
    "Plot the confusion matrices for wine type. You can see that the model performs well for prediction of wine type from the confusion matrix and the loss metrics."
   ]
  },
  {
   "cell_type": "code",
   "execution_count": 44,
   "metadata": {
    "colab": {},
    "colab_type": "code",
    "id": "C3hvTYxIaf3n"
   },
   "outputs": [
    {
     "data": {
      "image/png": "[encoded data removed]",
      "text/plain": [
       "<Figure size 432x288 with 2 Axes>"
      ]
     },
     "metadata": {
      "needs_background": "light"
     },
     "output_type": "display_data"
    }
   ],
   "source": [
    "plot_confusion_matrix(test_Y[1], np.round(type_pred), title='Wine Type', labels = [0, 1])"
   ]
  },
  {
   "cell_type": "code",
   "execution_count": 45,
   "metadata": {
    "colab": {},
    "colab_type": "code",
    "id": "GW91ym8P2I5y"
   },
   "outputs": [
    {
     "data": {
      "image/png": "[encoded data removed]",
      "text/plain": [
       "<Figure size 432x288 with 1 Axes>"
      ]
     },
     "metadata": {
      "needs_background": "light"
     },
     "output_type": "display_data"
    }
   ],
   "source": [
    "scatter_plot = plot_diff(test_Y[0], quality_pred, title='Type')"
   ]
  },
  {
   "cell_type": "code",
   "execution_count": null,
   "metadata": {},
   "outputs": [],
   "source": []
  }
 ],
 "metadata": {
  "colab": {
   "include_colab_link": true,
   "name": "exercise-answer.ipynb",
   "provenance": []
  },
  "kernelspec": {
   "display_name": "Python 3",
   "language": "python",
   "name": "python3"
  },
  "language_info": {
   "codemirror_mode": {
    "name": "ipython",
    "version": 3
   },
   "file_extension": ".py",
   "mimetype": "text/x-python",
   "name": "python",
   "nbconvert_exporter": "python",
   "pygments_lexer": "ipython3",
   "version": "3.7.6"
  }
 },
 "nbformat": 4,
 "nbformat_minor": 4
}
